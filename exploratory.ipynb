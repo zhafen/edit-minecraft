{
 "cells": [
  {
   "cell_type": "code",
   "execution_count": 1,
   "id": "484859ca-d49a-40fe-a087-55c8e5e12823",
   "metadata": {},
   "outputs": [],
   "source": [
    "import glob\n",
    "import gzip\n",
    "import nbt\n",
    "import nbtlib\n",
    "import numpy as np\n",
    "import os\n",
    "import PIL\n",
    "import struct"
   ]
  },
  {
   "cell_type": "code",
   "execution_count": 2,
   "id": "9f45704e-5b59-4f14-bb43-e3501bc7f01c",
   "metadata": {},
   "outputs": [],
   "source": [
    "from skimage.measure import block_reduce"
   ]
  },
  {
   "cell_type": "code",
   "execution_count": 3,
   "id": "853f7c3e-d945-48a3-ae16-dfe7ecc22ec8",
   "metadata": {},
   "outputs": [],
   "source": [
    "import anvil\n",
    "import minecraft_data"
   ]
  },
  {
   "cell_type": "code",
   "execution_count": 3,
   "id": "6f170554-d32f-4c7f-b415-4fe04e86fcbe",
   "metadata": {},
   "outputs": [],
   "source": [
    "import matplotlib\n",
    "import matplotlib.pyplot as plt\n",
    "plt.show()\n",
    "matplotlib.style.use( '/Users/zhafen/repos/clean-bold/clean-bold.mplstyle' )"
   ]
  },
  {
   "cell_type": "code",
   "execution_count": 4,
   "id": "7ab79339-214d-4e86-829a-5244c6b8dc03",
   "metadata": {},
   "outputs": [],
   "source": [
    "import tqdm"
   ]
  },
  {
   "cell_type": "code",
   "execution_count": 13,
   "id": "014b97c7-090b-4e01-b4e7-1b01546c5a9c",
   "metadata": {},
   "outputs": [],
   "source": [
    "CHUNK_SIZE = 16\n",
    "CHUNKS_PER_REGION = 32\n",
    "REGION_SIZE = CHUNK_SIZE * CHUNKS_PER_REGION"
   ]
  },
  {
   "cell_type": "markdown",
   "id": "f09dd612-3ae5-4f90-979b-23b8bcb802aa",
   "metadata": {},
   "source": [
    "# Parameters"
   ]
  },
  {
   "cell_type": "code",
   "execution_count": 5,
   "id": "60c61196-4573-4162-988d-0dce8262a313",
   "metadata": {},
   "outputs": [],
   "source": [
    "# world_dir = '/Users/zhafen/Downloads/MinecraftServer/TaniaWorld'\n",
    "world_dir = '/Users/zhafen/Downloads/world'"
   ]
  },
  {
   "cell_type": "code",
   "execution_count": 27,
   "id": "648e00a6-04e5-4c80-880f-a7e5a012ac63",
   "metadata": {},
   "outputs": [],
   "source": [
    "image_norm = 'z'\n",
    "norm_dim_value = 0"
   ]
  },
  {
   "cell_type": "code",
   "execution_count": 133,
   "id": "245cdeee-11a1-40dd-a629-f9969f0d9204",
   "metadata": {},
   "outputs": [],
   "source": [
    "categories = {\n",
    "    'greenery': [ 'acacia_leaves', 'acacia_log', 'grass', 'grass_block', 'glow_lichen' ],\n",
    "    'empty': [ 'air', ],\n",
    "    'stone': [ 'andesite', 'bedrock', 'deepslate', 'diorite', 'granite', 'sculk', 'sculk_vein', 'stone', 'tuff', ],\n",
    "    'ore': [ 'coal_ore', 'copper_ore', 'deepslate_iron_ore', 'iron_ore', ],\n",
    "    'dirt': [ 'dirt', 'gravel', ],\n",
    "    'water': [ 'water', ],\n",
    "}"
   ]
  },
  {
   "cell_type": "code",
   "execution_count": 134,
   "id": "e53a9621-eefb-4730-8e37-4665efc29151",
   "metadata": {},
   "outputs": [],
   "source": [
    "category_colors = {\n",
    "    'greenery': np.array([ 0., 1., 0., 1. ]),\n",
    "    'empty': np.array([ 1., 1., 1., 0., ]),\n",
    "    'stone': np.array([ 0.5, 0.5, 0.5, 1., ]),\n",
    "    'ore': np.array([ 0., 0., 1., 1., ]),\n",
    "    'dirt': np.array([ 1., 1., 0., 1., ]),\n",
    "    'water': np.array([ 0., 0., 1., 1., ]),\n",
    "    None: np.array([ 1., 0., 0., 1., ]),\n",
    "}"
   ]
  },
  {
   "cell_type": "markdown",
   "id": "0cd79017-35fb-4a85-a212-9a1f0075bc01",
   "metadata": {},
   "source": [
    "# Make a Map"
   ]
  },
  {
   "cell_type": "code",
   "execution_count": 28,
   "id": "fbdb0b5a-97d0-4948-abce-86d1fc84d5b3",
   "metadata": {},
   "outputs": [],
   "source": [
    "if image_norm == 'z':\n",
    "    xdim = 'x'\n",
    "    ydim = 'y'\n",
    "elif image_norm == 'y':\n",
    "    xdim = 'z'\n",
    "    ydim = 'x'\n",
    "elif image_norm == 'x':\n",
    "    xdim = 'z'\n",
    "    ydim = 'y'\n",
    "else:\n",
    "    raise KeyError( 'Unrecognized image_norm, image_norm = {}'.format( image_norm ) )"
   ]
  },
  {
   "cell_type": "code",
   "execution_count": 6,
   "id": "77569aea-e319-4f02-81a9-7fcd534df42d",
   "metadata": {},
   "outputs": [],
   "source": [
    "region_fps = glob.glob( os.path.join( world_dir, 'region', '*' ) )"
   ]
  },
  {
   "cell_type": "code",
   "execution_count": 7,
   "id": "3c818630-adeb-4c89-9a0e-aa87d067ef6e",
   "metadata": {},
   "outputs": [],
   "source": [
    "i = 0\n",
    "region_fp = region_fps[i]"
   ]
  },
  {
   "cell_type": "code",
   "execution_count": 15,
   "id": "5a70ca0f-1973-491e-92ae-946c9b4db03f",
   "metadata": {},
   "outputs": [],
   "source": [
    "region_fp = os.path.join( world_dir, 'region', 'r.0.0.mca' )"
   ]
  },
  {
   "cell_type": "code",
   "execution_count": 39,
   "id": "ef64d7f6-1528-40d0-8246-aadb2a3a6b75",
   "metadata": {},
   "outputs": [],
   "source": [
    "_, x_region, y_region, _ = os.path.basename( region_fp ).split( '.' )\n",
    "x_region, y_region = int( x_region ), int( y_region )"
   ]
  },
  {
   "cell_type": "code",
   "execution_count": 20,
   "id": "9ca0af1c-c7ab-40db-8900-650cca7205fc",
   "metadata": {},
   "outputs": [],
   "source": [
    "region = anvil.Region.from_file( region_fp )\n",
    "chunk_origin = anvil.Chunk.from_region( region, 0, 0 )"
   ]
  },
  {
   "cell_type": "code",
   "execution_count": 41,
   "id": "baaf83e0-cfed-4186-80ad-31daed3b1f5f",
   "metadata": {},
   "outputs": [],
   "source": [
    "# Get the possible y values\n",
    "section_height_range = anvil.chunk._section_height_range( chunk.version )\n",
    "y_range = np.arange( section_height_range.start * CHUNK_SIZE, section_height_range.stop * CHUNK_SIZE )"
   ]
  },
  {
   "cell_type": "code",
   "execution_count": 81,
   "id": "cca73a47-b819-4b6d-835a-056676efd61b",
   "metadata": {},
   "outputs": [],
   "source": [
    "# Convert indices to xs, ys, and zs, using index = y * 16**2 + z * 16 + x\n",
    "inds = np.arange( 16**2 * y_range.size )\n",
    "\n",
    "y_inds = inds // 16**2\n",
    "z_inds = ( inds - y_inds * 16**2 ) // 16\n",
    "x_inds = ( inds - y_inds * 16**2 - z_inds * 16 )"
   ]
  },
  {
   "cell_type": "code",
   "execution_count": 99,
   "id": "a321e227-56c3-4742-bf8d-636db62d93d8",
   "metadata": {},
   "outputs": [],
   "source": [
    "data_shape = ( REGION_SIZE, y_range.size )"
   ]
  },
  {
   "cell_type": "code",
   "execution_count": 122,
   "id": "09d66aba-1cf0-4cef-8c4d-25fe355b69e1",
   "metadata": {},
   "outputs": [
    {
     "name": "stderr",
     "output_type": "stream",
     "text": [
      "100%|█████████████████████████████████████████████████████████████████████████████████████████████████████████████████████████████████████████████████████████████████████████████████████████████████████████████████████████| 32/32 [00:01<00:00, 17.33it/s]\n"
     ]
    }
   ],
   "source": [
    "# Extract string image\n",
    "data = np.zeros( data_shape, dtype=int ).astype( str )\n",
    "for x_chunk in tqdm.tqdm( range( CHUNKS_PER_REGION ) ):\n",
    "    for z_chunk in range( CHUNKS_PER_REGION ):\n",
    "        \n",
    "            if z_chunk != norm_dim_value:\n",
    "                continue\n",
    "        \n",
    "            # You can also provide the region file name instead of the object\n",
    "            try:\n",
    "                chunk = anvil.Chunk.from_region( region, x_chunk, z_chunk )\n",
    "            except anvil.chunk.ChunkNotFound as e:\n",
    "                missing_chunks.append( ( region_fp, x_chunk, z_chunk ) )\n",
    "                continue\n",
    "                \n",
    "            for index, block in enumerate( chunk.stream_chunk() ):\n",
    "                \n",
    "                if z_inds[index] != 0:\n",
    "                    continue\n",
    "                \n",
    "                data[x_chunk*16+x_inds[index],y_inds[index]] = block.id"
   ]
  },
  {
   "cell_type": "code",
   "execution_count": 135,
   "id": "5a81073e-5964-45ef-8663-6ddbfa40556d",
   "metadata": {},
   "outputs": [],
   "source": [
    "data_palette = np.unique( data )\n",
    "img = np.ones( ( data.shape[0], data.shape[1], 4 ) )\n",
    "uncategorized_block_types = []\n",
    "for block_type in data_palette:\n",
    "    \n",
    "    # Find the category\n",
    "    block_category = None\n",
    "    for category, category_blocks in categories.items():\n",
    "        if block_type in category_blocks:\n",
    "            block_category = category\n",
    "            break\n",
    "            \n",
    "    if block_category is None:\n",
    "        uncategorized_block_types.append( block_type )\n",
    "    \n",
    "    # Color in the image\n",
    "    img[np.where( data==block_type )] = category_colors[block_category]"
   ]
  },
  {
   "cell_type": "code",
   "execution_count": 136,
   "id": "4600f9c2-1bc4-424f-a497-a0a7d98e778e",
   "metadata": {},
   "outputs": [
    {
     "data": {
      "image/png": "[encoded data removed]",
      "text/plain": [
       "<Figure size 1050x787.5 with 1 Axes>"
      ]
     },
     "metadata": {
      "needs_background": "light"
     },
     "output_type": "display_data"
    }
   ],
   "source": [
    "fig = plt.figure()\n",
    "ax = plt.gca()\n",
    "\n",
    "ax.imshow(\n",
    "    np.rot90( img, axes=(0,1) ),\n",
    ")\n",
    "\n",
    "ax.set_aspect( 'equal' )"
   ]
  },
  {
   "cell_type": "code",
   "execution_count": 55,
   "id": "e07d9558-319a-4c80-847b-121273b223fb",
   "metadata": {},
   "outputs": [
    {
     "data": {
      "text/plain": [
       "array([[1., 1., 1., ..., 1., 1., 1.],\n",
       "       [1., 1., 1., ..., 1., 1., 1.],\n",
       "       [1., 1., 1., ..., 1., 1., 1.],\n",
       "       ...,\n",
       "       [1., 1., 1., ..., 1., 1., 1.],\n",
       "       [1., 1., 1., ..., 1., 1., 1.],\n",
       "       [1., 1., 1., ..., 1., 1., 1.]])"
      ]
     },
     "execution_count": 55,
     "metadata": {},
     "output_type": "execute_result"
    }
   ],
   "source": [
    "img"
   ]
  },
  {
   "cell_type": "code",
   "execution_count": 32,
   "id": "b8820f60-ab83-40c8-9aa3-452758bbc670",
   "metadata": {},
   "outputs": [],
   "source": [
    "missing_chunks = []\n",
    "chunk_positions = dict(\n",
    "    i_chunks = [],\n",
    "    j_chunks = [],\n",
    "    x_chunks = [],\n",
    "    z_chunks = [],\n",
    ")\n",
    "for x_chunk in range( CHUNKS_PER_REGION ):\n",
    "    for z_chunk in range( CHUNKS_PER_REGION ):\n",
    "        \n",
    "            # You can also provide the region file name instead of the object\n",
    "            try:\n",
    "                chunk = anvil.Chunk.from_region( region, i_chunk, j_chunk )\n",
    "            except anvil.chunk.ChunkNotFound as e:\n",
    "                missing_chunks.append( ( region_fp, i_chunk, j_chunk ) )\n",
    "                continue\n",
    "                \n",
    "            chunk_positions['i_chunks'].append( i_chunk )\n",
    "            chunk_positions['j_chunks'].append( j_chunk )\n",
    "            chunk_positions['x_chunks'].append( chunk.data['xPos'].value )\n",
    "            chunk_positions['z_chunks'].append( chunk.data['zPos'].value )\n",
    "            \n",
    "for key, item in chunk_positions.items():\n",
    "    chunk_positions[key] = np.array( item )"
   ]
  },
  {
   "cell_type": "code",
   "execution_count": 37,
   "id": "f8c1f5dc-c275-442e-b4c0-70b8c29a3c9c",
   "metadata": {},
   "outputs": [
    {
     "data": {
      "text/plain": [
       "array([0, 0, 0, 0, 0, 0, 0, 0, 0, 0, 0, 0, 0, 0, 0, 0, 0, 0, 0, 0, 0, 0,\n",
       "       0, 0, 0, 0, 0, 0, 0, 0, 0, 0, 0, 0, 0, 0, 0, 0, 0, 0, 0, 0, 0, 0,\n",
       "       0, 0, 0, 0, 0, 0, 0, 0, 0, 0, 0, 0, 0, 0, 0, 0, 0, 0, 0, 0, 0, 0,\n",
       "       0, 0, 0, 0, 0, 0, 0, 0, 0, 0, 0, 0, 0, 0, 0, 0, 0, 0, 0, 0, 0, 0,\n",
       "       0, 0, 0, 0, 0, 0, 0, 0, 0, 0, 0, 0, 0, 0, 0, 0, 0, 0, 0, 0, 0, 0,\n",
       "       0, 0, 0, 0, 0, 0, 0, 0, 0, 0, 0, 0, 0, 0, 0, 0, 0, 0, 0, 0, 0, 0,\n",
       "       0, 0, 0, 0, 0, 0, 0, 0, 0, 0, 0, 0, 0, 0, 0, 0, 0, 0, 0, 0, 0, 0,\n",
       "       0, 0, 0, 0, 0, 0, 0, 0, 0, 0, 0, 0, 0, 0, 0, 0, 0, 0, 0, 0, 0, 0,\n",
       "       0, 0, 0, 0, 0, 0, 0, 0, 0, 0, 0, 0, 0, 0, 0, 0, 0, 0, 0, 0, 0, 0,\n",
       "       0, 0, 0, 0, 0, 0, 0, 0, 0, 0, 0, 0, 0, 0, 0, 0, 0, 0, 0, 0, 0, 0,\n",
       "       0, 0, 0, 0, 0, 0, 0, 0, 0, 0, 0, 0, 0, 0, 0, 0, 0, 0, 0, 0, 0, 0,\n",
       "       0, 0, 0, 0, 0, 0, 0, 0, 0, 0, 0, 0, 0, 0, 0, 0, 0, 0, 0, 0, 0, 0,\n",
       "       0, 0, 0, 0, 0, 0, 0, 0, 0, 0, 0, 0, 0, 0, 0, 0, 0, 0, 0, 0, 0, 0,\n",
       "       0, 0, 0, 0, 0, 0, 0, 0, 0, 0, 0, 0, 0, 0, 0, 0, 0, 0, 0, 0, 0, 0,\n",
       "       0, 0, 0, 0, 0, 0, 0, 0, 0, 0, 0, 0, 0, 0, 0, 0, 0, 0, 0, 0, 0, 0,\n",
       "       0, 0, 0, 0, 0, 0, 0, 0, 0, 0, 0, 0, 0, 0, 0, 0, 0, 0, 0, 0, 0, 0,\n",
       "       0, 0, 0, 0, 0, 0, 0, 0, 0, 0, 0, 0, 0, 0, 0, 0, 0, 0, 0, 0, 0, 0,\n",
       "       0, 0, 0, 0, 0, 0, 0, 0, 0, 0, 0, 0, 0, 0, 0, 0, 0, 0, 0, 0, 0, 0,\n",
       "       0, 0, 0, 0, 0, 0, 0, 0, 0, 0, 0, 0, 0, 0, 0, 0, 0, 0, 0, 0, 0, 0,\n",
       "       0, 0, 0, 0, 0, 0, 0, 0, 0, 0, 0, 0, 0, 0, 0, 0, 0, 0, 0, 0, 0, 0,\n",
       "       0, 0, 0, 0, 0, 0, 0, 0, 0, 0, 0, 0, 0, 0, 0, 0, 0, 0, 0, 0, 0, 0,\n",
       "       0, 0, 0, 0, 0, 0, 0, 0, 0, 0, 0, 0, 0, 0, 0, 0, 0, 0, 0, 0, 0, 0,\n",
       "       0, 0, 0, 0, 0, 0, 0, 0, 0, 0, 0, 0, 0, 0, 0, 0, 0, 0, 0, 0, 0, 0,\n",
       "       0, 0, 0, 0, 0, 0, 0, 0, 0, 0, 0, 0, 0, 0, 0, 0, 0, 0, 0, 0, 0, 0,\n",
       "       0, 0, 0, 0, 0, 0, 0, 0, 0, 0, 0, 0, 0, 0, 0, 0, 0, 0, 0, 0, 0, 0,\n",
       "       0, 0, 0, 0, 0, 0, 0, 0, 0, 0, 0, 0, 0, 0, 0, 0, 0, 0, 0, 0, 0, 0,\n",
       "       0, 0, 0, 0, 0, 0, 0, 0, 0, 0, 0, 0, 0, 0, 0, 0, 0, 0, 0, 0, 0, 0,\n",
       "       0, 0, 0, 0, 0, 0, 0, 0, 0, 0, 0, 0, 0, 0, 0, 0, 0, 0, 0, 0, 0, 0,\n",
       "       0, 0, 0, 0, 0, 0, 0, 0, 0, 0, 0, 0, 0, 0, 0, 0, 0, 0, 0, 0, 0, 0,\n",
       "       0, 0, 0, 0, 0, 0, 0, 0, 0, 0, 0, 0, 0, 0, 0, 0, 0, 0, 0, 0, 0, 0,\n",
       "       0, 0, 0, 0, 0, 0, 0, 0, 0, 0, 0, 0, 0, 0, 0, 0, 0, 0, 0, 0, 0, 0,\n",
       "       0, 0, 0, 0, 0, 0, 0, 0, 0, 0, 0, 0, 0, 0, 0, 0, 0, 0, 0, 0, 0, 0,\n",
       "       0, 0, 0, 0, 0, 0, 0, 0, 0, 0, 0, 0, 0, 0, 0, 0, 0, 0, 0, 0, 0, 0,\n",
       "       0, 0, 0, 0, 0, 0, 0, 0, 0, 0, 0, 0, 0, 0, 0, 0, 0, 0, 0, 0, 0, 0,\n",
       "       0, 0, 0, 0, 0, 0, 0, 0, 0, 0, 0, 0, 0, 0, 0, 0, 0, 0, 0, 0, 0, 0,\n",
       "       0, 0, 0, 0, 0])"
      ]
     },
     "execution_count": 37,
     "metadata": {},
     "output_type": "execute_result"
    }
   ],
   "source": [
    "chunk_positions['j_chunks'] - chunk_positions['z_chunks']"
   ]
  },
  {
   "cell_type": "code",
   "execution_count": 34,
   "id": "e8d7bfa5-2f31-4588-80aa-9f7e10ed81af",
   "metadata": {},
   "outputs": [
    {
     "data": {
      "text/plain": [
       "(array([ 0,  0,  0,  0,  0,  0,  0,  0,  0,  0,  0,  0,  0,  0,  0,  0,  0,\n",
       "         0,  0,  0,  0,  0,  0,  0,  0,  0,  0,  0,  0,  0,  1,  1,  1,  1,\n",
       "         1,  1,  1,  1,  1,  1,  1,  1,  1,  1,  1,  1,  1,  1,  1,  1,  1,\n",
       "         1,  1,  1,  1,  1,  1,  1,  1,  1,  1,  1,  2,  2,  2,  2,  2,  2,\n",
       "         2,  2,  2,  2,  2,  2,  2,  2,  2,  2,  2,  2,  2,  2,  2,  2,  2,\n",
       "         2,  2,  2,  2,  2,  2,  2,  2,  3,  3,  3,  3,  3,  3,  3,  3,  3,\n",
       "         3,  3,  3,  3,  3,  3,  3,  3,  3,  3,  3,  3,  3,  3,  3,  3,  3,\n",
       "         3,  3,  3,  3,  3,  4,  4,  4,  4,  4,  4,  4,  4,  4,  4,  4,  4,\n",
       "         4,  4,  4,  4,  4,  4,  4,  4,  4,  4,  4,  4,  4,  4,  4,  4,  4,\n",
       "         4,  4,  5,  5,  5,  5,  5,  5,  5,  5,  5,  5,  5,  5,  5,  5,  5,\n",
       "         5,  5,  5,  5,  5,  5,  5,  5,  5,  5,  5,  5,  5,  5,  5,  5,  6,\n",
       "         6,  6,  6,  6,  6,  6,  6,  6,  6,  6,  6,  6,  6,  6,  6,  6,  6,\n",
       "         6,  6,  6,  6,  6,  6,  6,  6,  6,  6,  6,  6,  7,  7,  7,  7,  7,\n",
       "         7,  7,  7,  7,  7,  7,  7,  7,  7,  7,  7,  7,  7,  7,  7,  7,  7,\n",
       "         7,  7,  7,  7,  7,  7,  8,  8,  8,  8,  8,  8,  8,  8,  8,  8,  8,\n",
       "         8,  8,  8,  8,  8,  8,  8,  8,  8,  8,  8,  8,  8,  8,  8,  8,  8,\n",
       "         9,  9,  9,  9,  9,  9,  9,  9,  9,  9,  9,  9,  9,  9,  9,  9,  9,\n",
       "         9,  9,  9,  9,  9,  9,  9,  9,  9,  9,  9,  9, 10, 10, 10, 10, 10,\n",
       "        10, 10, 10, 10, 10, 10, 10, 10, 10, 10, 10, 10, 10, 10, 10, 10, 10,\n",
       "        10, 10, 10, 10, 10, 11, 11, 11, 11, 11, 11, 11, 11, 11, 11, 11, 11,\n",
       "        11, 11, 11, 11, 11, 11, 11, 11, 11, 11, 11, 11, 11, 11, 11, 12, 12,\n",
       "        12, 12, 12, 12, 12, 12, 12, 12, 12, 12, 12, 12, 12, 12, 12, 12, 12,\n",
       "        12, 12, 12, 12, 12, 12, 12, 12, 12, 13, 13, 13, 13, 13, 13, 13, 13,\n",
       "        13, 13, 13, 13, 13, 13, 13, 13, 13, 13, 13, 13, 13, 13, 13, 13, 13,\n",
       "        13, 13, 13, 14, 14, 14, 14, 14, 14, 14, 14, 14, 14, 14, 14, 14, 14,\n",
       "        14, 14, 14, 14, 14, 14, 14, 14, 14, 14, 14, 14, 14, 14, 15, 15, 15,\n",
       "        15, 15, 15, 15, 15, 15, 15, 15, 15, 15, 15, 15, 15, 15, 15, 15, 15,\n",
       "        15, 15, 15, 15, 15, 15, 15, 15, 16, 16, 16, 16, 16, 16, 16, 16, 16,\n",
       "        16, 16, 16, 16, 16, 16, 16, 16, 16, 16, 16, 16, 16, 16, 16, 16, 16,\n",
       "        16, 16, 17, 17, 17, 17, 17, 17, 17, 17, 17, 17, 17, 17, 17, 17, 17,\n",
       "        17, 17, 17, 17, 17, 17, 17, 17, 17, 17, 17, 17, 17, 18, 18, 18, 18,\n",
       "        18, 18, 18, 18, 18, 18, 18, 18, 18, 18, 18, 18, 18, 18, 18, 18, 18,\n",
       "        18, 18, 18, 18, 18, 18, 18, 18, 18, 19, 19, 19, 19, 19, 19, 19, 19,\n",
       "        19, 19, 19, 19, 19, 19, 19, 19, 19, 19, 19, 19, 19, 19, 19, 19, 19,\n",
       "        19, 19, 19, 19, 19, 20, 20, 20, 20, 20, 20, 20, 20, 20, 20, 20, 20,\n",
       "        20, 20, 20, 20, 20, 20, 20, 20, 20, 20, 20, 20, 20, 20, 20, 20, 20,\n",
       "        20, 20, 21, 21, 21, 21, 21, 21, 21, 21, 21, 21, 21, 21, 21, 21, 22,\n",
       "        22, 22, 22, 22, 22, 22, 22, 22, 22, 22, 22, 22, 22, 22, 23, 23, 23,\n",
       "        23, 23, 23, 23, 23, 23, 23, 23, 23, 23, 23, 24, 24, 24, 24, 24, 24,\n",
       "        24, 24, 24, 24, 24, 24, 24, 24, 24, 25, 25, 25, 25, 25, 25, 25, 25,\n",
       "        25, 25, 25, 25, 25, 25, 25, 25, 25, 26, 26, 26, 26, 26, 26, 26, 26,\n",
       "        26, 26, 26, 26, 26, 26, 26, 26, 26, 26, 27, 27, 27, 27, 27, 27, 27,\n",
       "        27, 27, 27, 27, 28, 28, 28, 28, 28, 28, 28, 28, 28, 28, 28, 28, 28,\n",
       "        28, 29, 29, 29, 29, 29, 29, 29, 29, 29, 29, 29, 29, 29, 29, 30, 30,\n",
       "        30, 30, 30, 30, 30, 30, 30, 30, 30, 30, 30, 30, 30, 30, 31, 31, 31,\n",
       "        31, 31, 31, 31, 31, 31, 31, 31, 31, 31]),\n",
       " array([ 0,  0,  0,  0,  0,  0,  0,  0,  0,  0,  0,  0,  0,  0,  0,  0,  0,\n",
       "         0,  0,  0,  0,  0,  0,  0,  0,  0,  0,  0,  0,  0,  1,  1,  1,  1,\n",
       "         1,  1,  1,  1,  1,  1,  1,  1,  1,  1,  1,  1,  1,  1,  1,  1,  1,\n",
       "         1,  1,  1,  1,  1,  1,  1,  1,  1,  1,  1,  2,  2,  2,  2,  2,  2,\n",
       "         2,  2,  2,  2,  2,  2,  2,  2,  2,  2,  2,  2,  2,  2,  2,  2,  2,\n",
       "         2,  2,  2,  2,  2,  2,  2,  2,  3,  3,  3,  3,  3,  3,  3,  3,  3,\n",
       "         3,  3,  3,  3,  3,  3,  3,  3,  3,  3,  3,  3,  3,  3,  3,  3,  3,\n",
       "         3,  3,  3,  3,  3,  4,  4,  4,  4,  4,  4,  4,  4,  4,  4,  4,  4,\n",
       "         4,  4,  4,  4,  4,  4,  4,  4,  4,  4,  4,  4,  4,  4,  4,  4,  4,\n",
       "         4,  4,  5,  5,  5,  5,  5,  5,  5,  5,  5,  5,  5,  5,  5,  5,  5,\n",
       "         5,  5,  5,  5,  5,  5,  5,  5,  5,  5,  5,  5,  5,  5,  5,  5,  6,\n",
       "         6,  6,  6,  6,  6,  6,  6,  6,  6,  6,  6,  6,  6,  6,  6,  6,  6,\n",
       "         6,  6,  6,  6,  6,  6,  6,  6,  6,  6,  6,  6,  7,  7,  7,  7,  7,\n",
       "         7,  7,  7,  7,  7,  7,  7,  7,  7,  7,  7,  7,  7,  7,  7,  7,  7,\n",
       "         7,  7,  7,  7,  7,  7,  8,  8,  8,  8,  8,  8,  8,  8,  8,  8,  8,\n",
       "         8,  8,  8,  8,  8,  8,  8,  8,  8,  8,  8,  8,  8,  8,  8,  8,  8,\n",
       "         9,  9,  9,  9,  9,  9,  9,  9,  9,  9,  9,  9,  9,  9,  9,  9,  9,\n",
       "         9,  9,  9,  9,  9,  9,  9,  9,  9,  9,  9,  9, 10, 10, 10, 10, 10,\n",
       "        10, 10, 10, 10, 10, 10, 10, 10, 10, 10, 10, 10, 10, 10, 10, 10, 10,\n",
       "        10, 10, 10, 10, 10, 11, 11, 11, 11, 11, 11, 11, 11, 11, 11, 11, 11,\n",
       "        11, 11, 11, 11, 11, 11, 11, 11, 11, 11, 11, 11, 11, 11, 11, 12, 12,\n",
       "        12, 12, 12, 12, 12, 12, 12, 12, 12, 12, 12, 12, 12, 12, 12, 12, 12,\n",
       "        12, 12, 12, 12, 12, 12, 12, 12, 12, 13, 13, 13, 13, 13, 13, 13, 13,\n",
       "        13, 13, 13, 13, 13, 13, 13, 13, 13, 13, 13, 13, 13, 13, 13, 13, 13,\n",
       "        13, 13, 13, 14, 14, 14, 14, 14, 14, 14, 14, 14, 14, 14, 14, 14, 14,\n",
       "        14, 14, 14, 14, 14, 14, 14, 14, 14, 14, 14, 14, 14, 14, 15, 15, 15,\n",
       "        15, 15, 15, 15, 15, 15, 15, 15, 15, 15, 15, 15, 15, 15, 15, 15, 15,\n",
       "        15, 15, 15, 15, 15, 15, 15, 15, 16, 16, 16, 16, 16, 16, 16, 16, 16,\n",
       "        16, 16, 16, 16, 16, 16, 16, 16, 16, 16, 16, 16, 16, 16, 16, 16, 16,\n",
       "        16, 16, 17, 17, 17, 17, 17, 17, 17, 17, 17, 17, 17, 17, 17, 17, 17,\n",
       "        17, 17, 17, 17, 17, 17, 17, 17, 17, 17, 17, 17, 17, 18, 18, 18, 18,\n",
       "        18, 18, 18, 18, 18, 18, 18, 18, 18, 18, 18, 18, 18, 18, 18, 18, 18,\n",
       "        18, 18, 18, 18, 18, 18, 18, 18, 18, 19, 19, 19, 19, 19, 19, 19, 19,\n",
       "        19, 19, 19, 19, 19, 19, 19, 19, 19, 19, 19, 19, 19, 19, 19, 19, 19,\n",
       "        19, 19, 19, 19, 19, 20, 20, 20, 20, 20, 20, 20, 20, 20, 20, 20, 20,\n",
       "        20, 20, 20, 20, 20, 20, 20, 20, 20, 20, 20, 20, 20, 20, 20, 20, 20,\n",
       "        20, 20, 21, 21, 21, 21, 21, 21, 21, 21, 21, 21, 21, 21, 21, 21, 22,\n",
       "        22, 22, 22, 22, 22, 22, 22, 22, 22, 22, 22, 22, 22, 22, 23, 23, 23,\n",
       "        23, 23, 23, 23, 23, 23, 23, 23, 23, 23, 23, 24, 24, 24, 24, 24, 24,\n",
       "        24, 24, 24, 24, 24, 24, 24, 24, 24, 25, 25, 25, 25, 25, 25, 25, 25,\n",
       "        25, 25, 25, 25, 25, 25, 25, 25, 25, 26, 26, 26, 26, 26, 26, 26, 26,\n",
       "        26, 26, 26, 26, 26, 26, 26, 26, 26, 26, 27, 27, 27, 27, 27, 27, 27,\n",
       "        27, 27, 27, 27, 28, 28, 28, 28, 28, 28, 28, 28, 28, 28, 28, 28, 28,\n",
       "        28, 29, 29, 29, 29, 29, 29, 29, 29, 29, 29, 29, 29, 29, 29, 30, 30,\n",
       "        30, 30, 30, 30, 30, 30, 30, 30, 30, 30, 30, 30, 30, 30, 31, 31, 31,\n",
       "        31, 31, 31, 31, 31, 31, 31, 31, 31, 31]))"
      ]
     },
     "execution_count": 34,
     "metadata": {},
     "output_type": "execute_result"
    }
   ],
   "source": [
    "chunk_positions['i_chunks'], chunk_positions['x_chunks']"
   ]
  },
  {
   "cell_type": "code",
   "execution_count": 25,
   "id": "1b89236c-6819-4ef1-bb3f-f341002e90e8",
   "metadata": {
    "tags": []
   },
   "outputs": [
    {
     "name": "stderr",
     "output_type": "stream",
     "text": [
      "  0%|                                                                                                                                                                                                                                  | 0/25 [00:00<?, ?it/s]\n"
     ]
    },
    {
     "ename": "TypeError",
     "evalue": "'>' not supported between instances of 'NoneType' and 'int'",
     "output_type": "error",
     "traceback": [
      "\u001b[0;31m---------------------------------------------------------------------------\u001b[0m",
      "\u001b[0;31mTypeError\u001b[0m                                 Traceback (most recent call last)",
      "Input \u001b[0;32mIn [25]\u001b[0m, in \u001b[0;36m<cell line: 5>\u001b[0;34m()\u001b[0m\n\u001b[1;32m     12\u001b[0m \u001b[38;5;28;01mfor\u001b[39;00m j_chunk \u001b[38;5;129;01min\u001b[39;00m \u001b[38;5;28mrange\u001b[39m( \u001b[38;5;241m32\u001b[39m ):\n\u001b[1;32m     13\u001b[0m \n\u001b[1;32m     14\u001b[0m     \u001b[38;5;66;03m# You can also provide the region file name instead of the object\u001b[39;00m\n\u001b[1;32m     15\u001b[0m     \u001b[38;5;28;01mtry\u001b[39;00m:\n\u001b[0;32m---> 16\u001b[0m         chunk \u001b[38;5;241m=\u001b[39m \u001b[43manvil\u001b[49m\u001b[38;5;241;43m.\u001b[39;49m\u001b[43mChunk\u001b[49m\u001b[38;5;241;43m.\u001b[39;49m\u001b[43mfrom_region\u001b[49m\u001b[43m(\u001b[49m\u001b[43m \u001b[49m\u001b[43mregion\u001b[49m\u001b[43m,\u001b[49m\u001b[43m \u001b[49m\u001b[43mi_chunk\u001b[49m\u001b[43m,\u001b[49m\u001b[43m \u001b[49m\u001b[43mj_chunk\u001b[49m\u001b[43m \u001b[49m\u001b[43m)\u001b[49m\n\u001b[1;32m     17\u001b[0m     \u001b[38;5;28;01mexcept\u001b[39;00m anvil\u001b[38;5;241m.\u001b[39mchunk\u001b[38;5;241m.\u001b[39mChunkNotFound \u001b[38;5;28;01mas\u001b[39;00m e:\n\u001b[1;32m     18\u001b[0m         missing_chunks\u001b[38;5;241m.\u001b[39mappend( ( region_fp, i_chunk, j_chunk ) )\n",
      "File \u001b[0;32m~/repos/anvil-parser/anvil/chunk.py:531\u001b[0m, in \u001b[0;36mChunk.from_region\u001b[0;34m(cls, region, chunk_x, chunk_z)\u001b[0m\n\u001b[1;32m    529\u001b[0m \u001b[38;5;28;01mif\u001b[39;00m nbt_data \u001b[38;5;129;01mis\u001b[39;00m \u001b[38;5;28;01mNone\u001b[39;00m:\n\u001b[1;32m    530\u001b[0m     \u001b[38;5;28;01mraise\u001b[39;00m ChunkNotFound(\u001b[38;5;124mf\u001b[39m\u001b[38;5;124m\"\u001b[39m\u001b[38;5;124mCould not find chunk (\u001b[39m\u001b[38;5;132;01m{\u001b[39;00mchunk_x\u001b[38;5;132;01m}\u001b[39;00m\u001b[38;5;124m, \u001b[39m\u001b[38;5;132;01m{\u001b[39;00mchunk_z\u001b[38;5;132;01m}\u001b[39;00m\u001b[38;5;124m)\u001b[39m\u001b[38;5;124m\"\u001b[39m)\n\u001b[0;32m--> 531\u001b[0m \u001b[38;5;28;01mreturn\u001b[39;00m \u001b[38;5;28;43mcls\u001b[39;49m\u001b[43m(\u001b[49m\u001b[43mnbt_data\u001b[49m\u001b[43m)\u001b[49m\n",
      "File \u001b[0;32m~/repos/anvil-parser/anvil/chunk.py:102\u001b[0m, in \u001b[0;36mChunk.__init__\u001b[0;34m(self, nbt_data)\u001b[0m\n\u001b[1;32m     97\u001b[0m \u001b[38;5;28;01mexcept\u001b[39;00m \u001b[38;5;167;01mKeyError\u001b[39;00m:\n\u001b[1;32m     98\u001b[0m     \u001b[38;5;66;03m# Version is pre-1.9 snapshot 15w32a, so world does not have a Data Version.\u001b[39;00m\n\u001b[1;32m     99\u001b[0m     \u001b[38;5;66;03m# See https://minecraft.fandom.com/wiki/Data_version\u001b[39;00m\n\u001b[1;32m    100\u001b[0m     \u001b[38;5;28mself\u001b[39m\u001b[38;5;241m.\u001b[39mversion \u001b[38;5;241m=\u001b[39m \u001b[38;5;28;01mNone\u001b[39;00m\n\u001b[0;32m--> 102\u001b[0m \u001b[38;5;28;01mif\u001b[39;00m \u001b[38;5;28;43mself\u001b[39;49m\u001b[38;5;241;43m.\u001b[39;49m\u001b[43mversion\u001b[49m\u001b[43m \u001b[49m\u001b[38;5;241;43m>\u001b[39;49m\u001b[43m \u001b[49m\u001b[43m_VERSION_1_17_1\u001b[49m:\n\u001b[1;32m    103\u001b[0m     \u001b[38;5;28mself\u001b[39m\u001b[38;5;241m.\u001b[39mdata \u001b[38;5;241m=\u001b[39m nbt_data\n\u001b[1;32m    104\u001b[0m     \u001b[38;5;28mself\u001b[39m\u001b[38;5;241m.\u001b[39mtile_entities \u001b[38;5;241m=\u001b[39m \u001b[38;5;28mself\u001b[39m\u001b[38;5;241m.\u001b[39mdata[\u001b[38;5;124m\"\u001b[39m\u001b[38;5;124mblock_entities\u001b[39m\u001b[38;5;124m\"\u001b[39m]\n",
      "\u001b[0;31mTypeError\u001b[0m: '>' not supported between instances of 'NoneType' and 'int'"
     ]
    }
   ],
   "source": [
    "missing_chunks = []\n",
    "chunk_xs = []\n",
    "chunk_ys = []\n",
    "chunk_zs = []\n",
    "for region_fp in tqdm.tqdm( region_fps ):\n",
    "    \n",
    "    region = anvil.Region.from_file( region_fp )\n",
    "    \n",
    "    # print( region_fp )\n",
    "    \n",
    "    for i_chunk in range( 32 ):\n",
    "        for j_chunk in range( 32 ):\n",
    "\n",
    "            # You can also provide the region file name instead of the object\n",
    "            try:\n",
    "                chunk = anvil.Chunk.from_region( region, i_chunk, j_chunk )\n",
    "            except anvil.chunk.ChunkNotFound as e:\n",
    "                missing_chunks.append( ( region_fp, i_chunk, j_chunk ) )\n",
    "                # print( e )\n",
    "                continue\n",
    "                \n",
    "            chunk_xs.append( chunk.data['xPos'].value )\n",
    "            chunk_ys.append( chunk.data['yPos'].value )\n",
    "            chunk_zs.append( chunk.data['zPos'].value )"
   ]
  },
  {
   "cell_type": "markdown",
   "id": "300cfe7c-6d6e-434a-b646-33018ab83084",
   "metadata": {},
   "source": [
    "# Using Anvil-Parser"
   ]
  },
  {
   "cell_type": "code",
   "execution_count": 5,
   "id": "032041ba-3157-42ce-ab29-f2882f4b670a",
   "metadata": {},
   "outputs": [],
   "source": [
    "import anvil"
   ]
  },
  {
   "cell_type": "code",
   "execution_count": 6,
   "id": "d1d3c531-8e89-4390-8295-ce3d715b1972",
   "metadata": {},
   "outputs": [],
   "source": [
    "region_fp = os.path.join( world_dir, 'region', 'r.0.0.mca' )"
   ]
  },
  {
   "cell_type": "code",
   "execution_count": 7,
   "id": "be972eed-2d99-497d-8223-a97eb4773ba6",
   "metadata": {},
   "outputs": [],
   "source": [
    "region_fps = glob.glob( os.path.join( world_dir, 'region', '*' ) )"
   ]
  },
  {
   "cell_type": "code",
   "execution_count": 8,
   "id": "7841d9d8-a0a4-45da-80a7-4c16b7c49942",
   "metadata": {},
   "outputs": [],
   "source": [
    "i = 0\n",
    "region_fp = region_fps[i]"
   ]
  },
  {
   "cell_type": "code",
   "execution_count": 9,
   "id": "2204487f-05c6-4e8f-a723-47641706b8cb",
   "metadata": {},
   "outputs": [],
   "source": [
    "region = anvil.Region.from_file( region_fp )"
   ]
  },
  {
   "cell_type": "code",
   "execution_count": null,
   "id": "c0df7f23-6928-4749-893a-7ce6835a738d",
   "metadata": {},
   "outputs": [],
   "source": [
    "# Get the possible y values\n",
    "section_height_range = anvil.chunk._section_height_range( chunk.version )\n",
    "y_range = np.arange( section_height_range.start * 16, section_height_range.stop * 16 )"
   ]
  },
  {
   "cell_type": "code",
   "execution_count": null,
   "id": "35be5bd8-96ad-489a-b8b2-017f8234cfb9",
   "metadata": {},
   "outputs": [],
   "source": [
    "# Get the palette for the chunk\n",
    "palette_chunk = set()\n",
    "for i_section in section_height_range:\n",
    "    block_palette_section = chunk.get_palette( i_section )\n",
    "    palette_section = [ _.id for _ in block_palette_section ]\n",
    "    palette_chunk = palette_chunk.union( palette_section )"
   ]
  },
  {
   "cell_type": "code",
   "execution_count": null,
   "id": "582f4553-5ed4-4c6c-a275-642ab48fbe0b",
   "metadata": {},
   "outputs": [],
   "source": [
    "# Convert indices to xs, ys, and zs, using index = y * 16**2 + z * 16 + x\n",
    "inds = np.arange( 16**2 * y_range.size )\n",
    "\n",
    "y_inds = inds // 16**2\n",
    "z_inds = ( inds - y_inds * 16**2 ) // 16\n",
    "x_inds = ( inds - y_inds * 16**2 - z_inds * 16 )"
   ]
  },
  {
   "cell_type": "code",
   "execution_count": null,
   "id": "e205fbe5-76e3-474d-b22c-18137ec195c9",
   "metadata": {
    "tags": []
   },
   "outputs": [],
   "source": [
    "# Retrieve and format data for a chunk\n",
    "data_cube = np.zeros( (16, y_range.size, 16 ) ).astype( str )\n",
    "for index, block in enumerate( chunk.stream_chunk() ):\n",
    "    data_cube[x_inds[index],y_inds[index],z_inds[index]] = block.id"
   ]
  },
  {
   "cell_type": "code",
   "execution_count": null,
   "id": "6efcc23b-bac0-4e6f-aa2f-6c8ce766b39b",
   "metadata": {},
   "outputs": [],
   "source": [
    "ind_x = 0\n",
    "x_slice = data_cube[ind_x,:,:]"
   ]
  },
  {
   "cell_type": "code",
   "execution_count": null,
   "id": "35647137-2a73-4bb8-bbcb-851ba6ab6c41",
   "metadata": {},
   "outputs": [],
   "source": [
    "img = np.zeros( x_slice.shape )\n",
    "img[x_slice!='air'] = 1"
   ]
  },
  {
   "cell_type": "code",
   "execution_count": null,
   "id": "88dfc06d-7c79-458f-a9ab-acd8a957538f",
   "metadata": {},
   "outputs": [],
   "source": [
    "fig = plt.figure()\n",
    "ax = plt.gca()\n",
    "\n",
    "ax.pcolormesh(\n",
    "    img,\n",
    "    cmap = 'Greys',\n",
    ")\n",
    "\n",
    "ax.set_aspect( 'equal' )"
   ]
  },
  {
   "cell_type": "code",
   "execution_count": null,
   "id": "c2f0554b-e8c8-4e43-a580-10fe9ed8680f",
   "metadata": {},
   "outputs": [],
   "source": [
    "chunk.data['xPos']"
   ]
  },
  {
   "cell_type": "code",
   "execution_count": 11,
   "id": "7ae4d8e4-8064-40c3-bd69-7823dfd7c9de",
   "metadata": {
    "collapsed": true,
    "jupyter": {
     "outputs_hidden": true
    },
    "tags": []
   },
   "outputs": [
    {
     "name": "stderr",
     "output_type": "stream",
     "text": [
      "  0%|                                                                                                                                                                                                                                  | 0/25 [00:00<?, ?it/s]\n"
     ]
    },
    {
     "ename": "TypeError",
     "evalue": "'>' not supported between instances of 'NoneType' and 'int'",
     "output_type": "error",
     "traceback": [
      "\u001b[0;31m---------------------------------------------------------------------------\u001b[0m",
      "\u001b[0;31mTypeError\u001b[0m                                 Traceback (most recent call last)",
      "Input \u001b[0;32mIn [11]\u001b[0m, in \u001b[0;36m<cell line: 5>\u001b[0;34m()\u001b[0m\n\u001b[1;32m     12\u001b[0m \u001b[38;5;28;01mfor\u001b[39;00m j_chunk \u001b[38;5;129;01min\u001b[39;00m \u001b[38;5;28mrange\u001b[39m( \u001b[38;5;241m32\u001b[39m ):\n\u001b[1;32m     13\u001b[0m \n\u001b[1;32m     14\u001b[0m     \u001b[38;5;66;03m# You can also provide the region file name instead of the object\u001b[39;00m\n\u001b[1;32m     15\u001b[0m     \u001b[38;5;28;01mtry\u001b[39;00m:\n\u001b[0;32m---> 16\u001b[0m         chunk \u001b[38;5;241m=\u001b[39m \u001b[43manvil\u001b[49m\u001b[38;5;241;43m.\u001b[39;49m\u001b[43mChunk\u001b[49m\u001b[38;5;241;43m.\u001b[39;49m\u001b[43mfrom_region\u001b[49m\u001b[43m(\u001b[49m\u001b[43m \u001b[49m\u001b[43mregion\u001b[49m\u001b[43m,\u001b[49m\u001b[43m \u001b[49m\u001b[43mi_chunk\u001b[49m\u001b[43m,\u001b[49m\u001b[43m \u001b[49m\u001b[43mj_chunk\u001b[49m\u001b[43m \u001b[49m\u001b[43m)\u001b[49m\n\u001b[1;32m     17\u001b[0m     \u001b[38;5;28;01mexcept\u001b[39;00m anvil\u001b[38;5;241m.\u001b[39mchunk\u001b[38;5;241m.\u001b[39mChunkNotFound \u001b[38;5;28;01mas\u001b[39;00m e:\n\u001b[1;32m     18\u001b[0m         missing_chunks\u001b[38;5;241m.\u001b[39mappend( ( region_fp, i_chunk, j_chunk ) )\n",
      "File \u001b[0;32m~/repos/anvil-parser/anvil/chunk.py:531\u001b[0m, in \u001b[0;36mChunk.from_region\u001b[0;34m(cls, region, chunk_x, chunk_z)\u001b[0m\n\u001b[1;32m    529\u001b[0m \u001b[38;5;28;01mif\u001b[39;00m nbt_data \u001b[38;5;129;01mis\u001b[39;00m \u001b[38;5;28;01mNone\u001b[39;00m:\n\u001b[1;32m    530\u001b[0m     \u001b[38;5;28;01mraise\u001b[39;00m ChunkNotFound(\u001b[38;5;124mf\u001b[39m\u001b[38;5;124m\"\u001b[39m\u001b[38;5;124mCould not find chunk (\u001b[39m\u001b[38;5;132;01m{\u001b[39;00mchunk_x\u001b[38;5;132;01m}\u001b[39;00m\u001b[38;5;124m, \u001b[39m\u001b[38;5;132;01m{\u001b[39;00mchunk_z\u001b[38;5;132;01m}\u001b[39;00m\u001b[38;5;124m)\u001b[39m\u001b[38;5;124m\"\u001b[39m)\n\u001b[0;32m--> 531\u001b[0m \u001b[38;5;28;01mreturn\u001b[39;00m \u001b[38;5;28;43mcls\u001b[39;49m\u001b[43m(\u001b[49m\u001b[43mnbt_data\u001b[49m\u001b[43m)\u001b[49m\n",
      "File \u001b[0;32m~/repos/anvil-parser/anvil/chunk.py:102\u001b[0m, in \u001b[0;36mChunk.__init__\u001b[0;34m(self, nbt_data)\u001b[0m\n\u001b[1;32m     97\u001b[0m \u001b[38;5;28;01mexcept\u001b[39;00m \u001b[38;5;167;01mKeyError\u001b[39;00m:\n\u001b[1;32m     98\u001b[0m     \u001b[38;5;66;03m# Version is pre-1.9 snapshot 15w32a, so world does not have a Data Version.\u001b[39;00m\n\u001b[1;32m     99\u001b[0m     \u001b[38;5;66;03m# See https://minecraft.fandom.com/wiki/Data_version\u001b[39;00m\n\u001b[1;32m    100\u001b[0m     \u001b[38;5;28mself\u001b[39m\u001b[38;5;241m.\u001b[39mversion \u001b[38;5;241m=\u001b[39m \u001b[38;5;28;01mNone\u001b[39;00m\n\u001b[0;32m--> 102\u001b[0m \u001b[38;5;28;01mif\u001b[39;00m \u001b[38;5;28;43mself\u001b[39;49m\u001b[38;5;241;43m.\u001b[39;49m\u001b[43mversion\u001b[49m\u001b[43m \u001b[49m\u001b[38;5;241;43m>\u001b[39;49m\u001b[43m \u001b[49m\u001b[43m_VERSION_1_17_1\u001b[49m:\n\u001b[1;32m    103\u001b[0m     \u001b[38;5;28mself\u001b[39m\u001b[38;5;241m.\u001b[39mdata \u001b[38;5;241m=\u001b[39m nbt_data\n\u001b[1;32m    104\u001b[0m     \u001b[38;5;28mself\u001b[39m\u001b[38;5;241m.\u001b[39mtile_entities \u001b[38;5;241m=\u001b[39m \u001b[38;5;28mself\u001b[39m\u001b[38;5;241m.\u001b[39mdata[\u001b[38;5;124m\"\u001b[39m\u001b[38;5;124mblock_entities\u001b[39m\u001b[38;5;124m\"\u001b[39m]\n",
      "\u001b[0;31mTypeError\u001b[0m: '>' not supported between instances of 'NoneType' and 'int'"
     ]
    }
   ],
   "source": [
    "missing_chunks = []\n",
    "chunk_xs = []\n",
    "chunk_ys = []\n",
    "chunk_zs = []\n",
    "for region_fp in tqdm.tqdm( region_fps ):\n",
    "    \n",
    "    region = anvil.Region.from_file( region_fp )\n",
    "    \n",
    "    # print( region_fp )\n",
    "    \n",
    "    for i_chunk in range( 32 ):\n",
    "        for j_chunk in range( 32 ):\n",
    "\n",
    "            # You can also provide the region file name instead of the object\n",
    "            try:\n",
    "                chunk = anvil.Chunk.from_region( region, i_chunk, j_chunk )\n",
    "            except anvil.chunk.ChunkNotFound as e:\n",
    "                missing_chunks.append( ( region_fp, i_chunk, j_chunk ) )\n",
    "                # print( e )\n",
    "                continue\n",
    "                \n",
    "            chunk_xs.append( chunk.data['xPos'].value )\n",
    "            chunk_ys.append( chunk.data['yPos'].value )\n",
    "            chunk_zs.append( chunk.data['zPos'].value )"
   ]
  },
  {
   "cell_type": "code",
   "execution_count": null,
   "id": "6187b48e-a3a2-4083-9491-088fd14d9565",
   "metadata": {},
   "outputs": [],
   "source": [
    "fig = plt.figure()\n",
    "ax = plt.gca()\n",
    "\n",
    "ax.scatter(\n",
    "    chunk_xs,\n",
    "    chunk_zs,\n",
    "    s = 1,\n",
    ")\n",
    "\n",
    "# ax.set_xlim( -50, 0 )\n",
    "# ax.set_ylim( 0, 50 )"
   ]
  },
  {
   "cell_type": "markdown",
   "id": "a42f29a4-20e5-49bf-983c-3d0e5d844074",
   "metadata": {},
   "source": [
    "# Using PyAnvil"
   ]
  },
  {
   "cell_type": "code",
   "execution_count": 3,
   "id": "b2ac8e23-e2aa-4767-aef6-d01edcbd1462",
   "metadata": {},
   "outputs": [],
   "source": [
    "import pyanvil"
   ]
  },
  {
   "cell_type": "code",
   "execution_count": 4,
   "id": "6926bb8a-5ef5-4c0e-bda3-379be7ca60c8",
   "metadata": {},
   "outputs": [],
   "source": [
    "world = pyanvil.World( world_dir )"
   ]
  },
  {
   "cell_type": "code",
   "execution_count": 11,
   "id": "2924cbf1-c2ef-45e8-b8c2-897a47cc8c15",
   "metadata": {},
   "outputs": [
    {
     "ename": "IndexError",
     "evalue": "list index out of range",
     "output_type": "error",
     "traceback": [
      "\u001b[0;31m---------------------------------------------------------------------------\u001b[0m",
      "\u001b[0;31mIndexError\u001b[0m                                Traceback (most recent call last)",
      "Input \u001b[0;32mIn [11]\u001b[0m, in \u001b[0;36m<cell line: 1>\u001b[0;34m()\u001b[0m\n\u001b[0;32m----> 1\u001b[0m \u001b[43mworld\u001b[49m\u001b[38;5;241;43m.\u001b[39;49m\u001b[43mget_block\u001b[49m\u001b[43m(\u001b[49m\u001b[43m \u001b[49m\u001b[43m(\u001b[49m\u001b[38;5;241;43m15\u001b[39;49m\u001b[43m,\u001b[49m\u001b[43m \u001b[49m\u001b[38;5;241;43m10\u001b[39;49m\u001b[43m,\u001b[49m\u001b[43m \u001b[49m\u001b[38;5;241;43m25\u001b[39;49m\u001b[43m)\u001b[49m\u001b[43m \u001b[49m\u001b[43m)\u001b[49m\n",
      "File \u001b[0;32m~/repos/PyAnvilEditor/pyanvil/world.py:334\u001b[0m, in \u001b[0;36mWorld.get_block\u001b[0;34m(self, block_pos)\u001b[0m\n\u001b[1;32m    332\u001b[0m chunk_pos \u001b[38;5;241m=\u001b[39m \u001b[38;5;28mself\u001b[39m\u001b[38;5;241m.\u001b[39m_get_chunk(block_pos)\n\u001b[1;32m    333\u001b[0m chunk \u001b[38;5;241m=\u001b[39m \u001b[38;5;28mself\u001b[39m\u001b[38;5;241m.\u001b[39mget_chunk(chunk_pos)\n\u001b[0;32m--> 334\u001b[0m \u001b[38;5;28;01mreturn\u001b[39;00m \u001b[43mchunk\u001b[49m\u001b[38;5;241;43m.\u001b[39;49m\u001b[43mget_block\u001b[49m\u001b[43m(\u001b[49m\u001b[43mblock_pos\u001b[49m\u001b[43m)\u001b[49m\n",
      "File \u001b[0;32m~/repos/PyAnvilEditor/pyanvil/world.py:121\u001b[0m, in \u001b[0;36mChunk.get_block\u001b[0;34m(self, block_pos)\u001b[0m\n\u001b[1;32m    120\u001b[0m \u001b[38;5;28;01mdef\u001b[39;00m \u001b[38;5;21mget_block\u001b[39m(\u001b[38;5;28mself\u001b[39m, block_pos):\n\u001b[0;32m--> 121\u001b[0m     \u001b[38;5;28;01mreturn\u001b[39;00m \u001b[38;5;28;43mself\u001b[39;49m\u001b[38;5;241;43m.\u001b[39;49m\u001b[43mget_section\u001b[49m\u001b[43m(\u001b[49m\u001b[43mblock_pos\u001b[49m\u001b[43m[\u001b[49m\u001b[38;5;241;43m1\u001b[39;49m\u001b[43m]\u001b[49m\u001b[43m)\u001b[49m\u001b[38;5;241;43m.\u001b[39;49m\u001b[43mget_block\u001b[49m\u001b[43m(\u001b[49m\u001b[43m[\u001b[49m\u001b[43mn\u001b[49m\u001b[43m \u001b[49m\u001b[38;5;241;43m%\u001b[39;49m\u001b[43m \u001b[49m\u001b[38;5;241;43m16\u001b[39;49m\u001b[43m \u001b[49m\u001b[38;5;28;43;01mfor\u001b[39;49;00m\u001b[43m \u001b[49m\u001b[43mn\u001b[49m\u001b[43m \u001b[49m\u001b[38;5;129;43;01min\u001b[39;49;00m\u001b[43m \u001b[49m\u001b[43mblock_pos\u001b[49m\u001b[43m]\u001b[49m\u001b[43m)\u001b[49m\n",
      "File \u001b[0;32m~/repos/PyAnvilEditor/pyanvil/world.py:57\u001b[0m, in \u001b[0;36mChunkSection.get_block\u001b[0;34m(self, block_pos)\u001b[0m\n\u001b[1;32m     54\u001b[0m y \u001b[38;5;241m=\u001b[39m block_pos[\u001b[38;5;241m1\u001b[39m]\n\u001b[1;32m     55\u001b[0m z \u001b[38;5;241m=\u001b[39m block_pos[\u001b[38;5;241m2\u001b[39m]\n\u001b[0;32m---> 57\u001b[0m \u001b[38;5;28;01mreturn\u001b[39;00m \u001b[38;5;28;43mself\u001b[39;49m\u001b[38;5;241;43m.\u001b[39;49m\u001b[43mblocks\u001b[49m\u001b[43m[\u001b[49m\u001b[43mx\u001b[49m\u001b[43m \u001b[49m\u001b[38;5;241;43m+\u001b[39;49m\u001b[43m \u001b[49m\u001b[43mz\u001b[49m\u001b[43m \u001b[49m\u001b[38;5;241;43m*\u001b[39;49m\u001b[43m \u001b[49m\u001b[38;5;241;43m16\u001b[39;49m\u001b[43m \u001b[49m\u001b[38;5;241;43m+\u001b[39;49m\u001b[43m \u001b[49m\u001b[43my\u001b[49m\u001b[43m \u001b[49m\u001b[38;5;241;43m*\u001b[39;49m\u001b[43m \u001b[49m\u001b[38;5;241;43m16\u001b[39;49m\u001b[43m \u001b[49m\u001b[38;5;241;43m*\u001b[39;49m\u001b[38;5;241;43m*\u001b[39;49m\u001b[43m \u001b[49m\u001b[38;5;241;43m2\u001b[39;49m\u001b[43m]\u001b[49m\n",
      "\u001b[0;31mIndexError\u001b[0m: list index out of range"
     ]
    }
   ],
   "source": [
    "world.get_block( (15, 10, 25) )"
   ]
  },
  {
   "cell_type": "code",
   "execution_count": 8,
   "id": "026d087d-41f1-48fe-ab7b-5aa76b3fa283",
   "metadata": {},
   "outputs": [],
   "source": [
    "chunk_data = world.get_chunk( ( 0, 0 ) )"
   ]
  },
  {
   "cell_type": "code",
   "execution_count": 10,
   "id": "a6c5dbfc-4d61-4af9-89ca-f1640c2fa9e2",
   "metadata": {},
   "outputs": [
    {
     "data": {
      "text/plain": [
       "<pyanvil.world.Chunk at 0x7fe178aac550>"
      ]
     },
     "execution_count": 10,
     "metadata": {},
     "output_type": "execute_result"
    }
   ],
   "source": [
    "chunk_data"
   ]
  },
  {
   "cell_type": "markdown",
   "id": "6ed010b8-f3a1-4472-9efc-4552961a79af",
   "metadata": {},
   "source": [
    "# ChatGPT Scratch"
   ]
  },
  {
   "cell_type": "code",
   "execution_count": null,
   "id": "b2a53940-69d6-4688-a0c8-6b4435e42e78",
   "metadata": {},
   "outputs": [],
   "source": [
    "level = nbtlib.load( os.path.join( world_dir, 'level.dat' ) )"
   ]
  },
  {
   "cell_type": "code",
   "execution_count": 55,
   "id": "867a64f2-ea17-4a94-b35d-ebbf3f73e2f4",
   "metadata": {},
   "outputs": [],
   "source": [
    "region_fps = glob.glob( os.path.join( world_dir, 'region', '*' ) )"
   ]
  },
  {
   "cell_type": "code",
   "execution_count": 62,
   "id": "53099874-2bf8-4beb-a098-92a4b9f19036",
   "metadata": {},
   "outputs": [],
   "source": [
    "i = -4\n",
    "region_fp = region_fps[i]"
   ]
  },
  {
   "cell_type": "code",
   "execution_count": 99,
   "id": "3a6d6721-2bcb-49c5-94d5-e6be5324d042",
   "metadata": {},
   "outputs": [],
   "source": [
    "region_fp = os.path.join( world_dir, 'region', 'r.0.0.mca' )"
   ]
  },
  {
   "cell_type": "code",
   "execution_count": 116,
   "id": "65f778bd-6774-4c98-bfe0-b72ebd722e08",
   "metadata": {},
   "outputs": [
    {
     "data": {
      "text/plain": [
       "(0, 0)"
      ]
     },
     "execution_count": 116,
     "metadata": {},
     "output_type": "execute_result"
    }
   ],
   "source": [
    "_, chunk_x, chunk_z, _ = os.path.basename( region_fp ).split( '.' )\n",
    "chunk_x = int( chunk_x )\n",
    "chunk_z = int( chunk_z )\n",
    "chunk_x, chunk_z"
   ]
  },
  {
   "cell_type": "code",
   "execution_count": 101,
   "id": "72bca470-82ae-40ce-a053-bd2d2de55d86",
   "metadata": {},
   "outputs": [],
   "source": [
    "KB = 1024"
   ]
  },
  {
   "cell_type": "code",
   "execution_count": 130,
   "id": "e69e867d-ca88-46b0-a86b-b79fcf4fd138",
   "metadata": {},
   "outputs": [
    {
     "data": {
      "text/plain": [
       "'/Users/zhafen/Downloads/world/region/r.0.0.mca'"
      ]
     },
     "execution_count": 130,
     "metadata": {},
     "output_type": "execute_result"
    }
   ],
   "source": [
    "region_fp"
   ]
  },
  {
   "cell_type": "code",
   "execution_count": 143,
   "id": "21ff1635-112f-4f37-b017-7e454cab1548",
   "metadata": {},
   "outputs": [],
   "source": [
    "with open( region_fp, 'rb' ) as mca_file:\n",
    "\n",
    "    location_0 = mca_file.read( 100 )"
   ]
  },
  {
   "cell_type": "code",
   "execution_count": 157,
   "id": "c231bf96-29cc-4eb8-a2f2-4267e493f33c",
   "metadata": {},
   "outputs": [
    {
     "ename": "UnicodeDecodeError",
     "evalue": "'utf-8' codec can't decode byte 0x94 in position 2: invalid start byte",
     "output_type": "error",
     "traceback": [
      "\u001b[0;31m---------------------------------------------------------------------------\u001b[0m",
      "\u001b[0;31mUnicodeDecodeError\u001b[0m                        Traceback (most recent call last)",
      "Input \u001b[0;32mIn [157]\u001b[0m, in \u001b[0;36m<cell line: 1>\u001b[0;34m()\u001b[0m\n\u001b[0;32m----> 1\u001b[0m \u001b[43mlocation_0\u001b[49m\u001b[43m[\u001b[49m\u001b[43m:\u001b[49m\u001b[38;5;241;43m4\u001b[39;49m\u001b[43m]\u001b[49m\u001b[38;5;241;43m.\u001b[39;49m\u001b[43mdecode\u001b[49m\u001b[43m(\u001b[49m\u001b[43m \u001b[49m\u001b[38;5;124;43m'\u001b[39;49m\u001b[38;5;124;43mutf-8\u001b[39;49m\u001b[38;5;124;43m'\u001b[39;49m\u001b[43m \u001b[49m\u001b[43m)\u001b[49m\n",
      "\u001b[0;31mUnicodeDecodeError\u001b[0m: 'utf-8' codec can't decode byte 0x94 in position 2: invalid start byte"
     ]
    }
   ],
   "source": [
    "location_0[:4].decode( 'utf-8' )"
   ]
  },
  {
   "cell_type": "code",
   "execution_count": 154,
   "id": "af4d84e3-acc1-452e-a250-ddd51bda2690",
   "metadata": {},
   "outputs": [
    {
     "data": {
      "text/plain": [
       "[b'',\n",
       " b'\\x02\\x94\\x02',\n",
       " b'\\x03O\\x02',\n",
       " b'\\x04\\xe5\\x03',\n",
       " b'',\n",
       " b' \\x02',\n",
       " b'\\x02\\xbd\\x02',\n",
       " b'\\x02\\xc7\\x02',\n",
       " b'\\x02\\xf1\\x02',\n",
       " b'\\x03\\x16\\x02',\n",
       " b'\\x03E\\x02',\n",
       " b'',\n",
       " b'8\\x02',\n",
       " b'\\x032\\x02',\n",
       " b'\\x03\\xf8\\x01',\n",
       " b'\\x04\\x04\\x01',\n",
       " b'\\x03\\xb1\\x01',\n",
       " b'\\x04\\xd4\\x01',\n",
       " b'\\x04c\\x01',\n",
       " b'\\x03\\xbd\\x01',\n",
       " b'\\x03\\xf2\\x01',\n",
       " b'\\x03\\xed\\x01',\n",
       " b'\\x04\\xa2\\x01',\n",
       " b'\\x03\\x88\\x01',\n",
       " b'',\n",
       " b'',\n",
       " b'',\n",
       " b'',\n",
       " b'',\n",
       " b'',\n",
       " b'',\n",
       " b'',\n",
       " b'',\n",
       " b'',\n",
       " b'',\n",
       " b'',\n",
       " b'',\n",
       " b'',\n",
       " b'',\n",
       " b'']"
      ]
     },
     "execution_count": 154,
     "metadata": {},
     "output_type": "execute_result"
    }
   ],
   "source": [
    "location_0.split( b'\\x00' )"
   ]
  },
  {
   "cell_type": "code",
   "execution_count": 126,
   "id": "ad835020-e842-4712-9c3f-d726fc74e91b",
   "metadata": {},
   "outputs": [
    {
     "data": {
      "text/plain": [
       "2"
      ]
     },
     "execution_count": 126,
     "metadata": {},
     "output_type": "execute_result"
    }
   ],
   "source": [
    "location_0[-1]"
   ]
  },
  {
   "cell_type": "code",
   "execution_count": 129,
   "id": "12845613-1bf0-4da7-81ff-8921aeeaab6a",
   "metadata": {},
   "outputs": [
    {
     "ename": "UnicodeDecodeError",
     "evalue": "'utf-8' codec can't decode byte 0x94 in position 2: invalid start byte",
     "output_type": "error",
     "traceback": [
      "\u001b[0;31m---------------------------------------------------------------------------\u001b[0m",
      "\u001b[0;31mUnicodeDecodeError\u001b[0m                        Traceback (most recent call last)",
      "Input \u001b[0;32mIn [129]\u001b[0m, in \u001b[0;36m<cell line: 1>\u001b[0;34m()\u001b[0m\n\u001b[0;32m----> 1\u001b[0m \u001b[43mlocation_0\u001b[49m\u001b[43m[\u001b[49m\u001b[43m:\u001b[49m\u001b[38;5;241;43m3\u001b[39;49m\u001b[43m]\u001b[49m\u001b[38;5;241;43m.\u001b[39;49m\u001b[43mdecode\u001b[49m\u001b[43m(\u001b[49m\u001b[43m)\u001b[49m\n",
      "\u001b[0;31mUnicodeDecodeError\u001b[0m: 'utf-8' codec can't decode byte 0x94 in position 2: invalid start byte"
     ]
    }
   ],
   "source": [
    "location_0[:3]"
   ]
  },
  {
   "cell_type": "code",
   "execution_count": 111,
   "id": "ce7e4eee-5219-487b-8b38-b3f44ed1dfae",
   "metadata": {},
   "outputs": [],
   "source": [
    "import struct\n",
    "\n",
    "# define constants\n",
    "SECTOR_SIZE = 4096\n",
    "CHUNK_HEADER_SIZE = 5\n",
    "\n",
    "with open( region_fp, 'rb' ) as mca_file:\n",
    "\n",
    "    mca_file.seek( 8 * KB )\n",
    "    \n",
    "    # read the chunk offset from the region file\n",
    "    chunk_offset_bytes = mca_file.read(4)\n",
    "    chunk_offset = struct.unpack('>i', chunk_offset_bytes)[0]\n",
    "\n",
    "    # read the chunk length from the region file\n",
    "    chunk_length_bytes = mca_file.read(1)\n",
    "    chunk_length = chunk_length_bytes[0]\n",
    "    \n",
    "    # read the chunk data from the region file\n",
    "    chunk_data = mca_file.read(chunk_length * SECTOR_SIZE - CHUNK_HEADER_SIZE)"
   ]
  },
  {
   "cell_type": "code",
   "execution_count": 105,
   "id": "ff55496c-8235-4007-acf4-78d80693432b",
   "metadata": {},
   "outputs": [
    {
     "data": {
      "text/plain": [
       "b'\\x00\\x00\\x11\\xe6'"
      ]
     },
     "execution_count": 105,
     "metadata": {},
     "output_type": "execute_result"
    }
   ],
   "source": [
    "chunk_offset_bytes"
   ]
  },
  {
   "cell_type": "code",
   "execution_count": 87,
   "id": "bf1d288d-bc01-4da3-b006-257252e463c9",
   "metadata": {},
   "outputs": [],
   "source": [
    "# Constants\n",
    "SECTOR_SIZE = 4096  # 4 KiB"
   ]
  },
  {
   "cell_type": "code",
   "execution_count": 88,
   "id": "9b139219-9621-4c17-ac54-4fe3c2b39ee3",
   "metadata": {},
   "outputs": [],
   "source": [
    "def get_chunk_offset(chunk_x, chunk_z):\n",
    "    \"\"\"\n",
    "    Calculate the offset of the chunk within the file.\n",
    "    \"\"\"\n",
    "    # Each chunk's header is 5 bytes long\n",
    "    header_size = 5\n",
    "\n",
    "    # Calculate the offset of the chunk within the file\n",
    "    chunk_offset = (chunk_x % 32) + (chunk_z % 32) * 32\n",
    "    return chunk_offset * header_size"
   ]
  },
  {
   "cell_type": "code",
   "execution_count": 89,
   "id": "45aa9cbc-2151-404c-8266-72cbf0307f9f",
   "metadata": {},
   "outputs": [],
   "source": [
    "# Calculate the offset of the chunk within the file\n",
    "sector_offset = get_chunk_offset(chunk_x, chunk_z)\n",
    "byte_offset = sector_offset * SECTOR_SIZE"
   ]
  },
  {
   "cell_type": "code",
   "execution_count": 95,
   "id": "1ce8dd11-2afb-4b1e-8924-021c987a1a09",
   "metadata": {},
   "outputs": [],
   "source": [
    "sector_offset = 1\n",
    "byte_offset = sector_offset * SECTOR_SIZE"
   ]
  },
  {
   "cell_type": "code",
   "execution_count": 96,
   "id": "bcb547f9-2ad0-4613-9085-4c29d3faf913",
   "metadata": {},
   "outputs": [
    {
     "data": {
      "text/plain": [
       "4096"
      ]
     },
     "execution_count": 96,
     "metadata": {},
     "output_type": "execute_result"
    }
   ],
   "source": [
    "byte_offset"
   ]
  },
  {
   "cell_type": "code",
   "execution_count": 97,
   "id": "d42f2aad-f4f1-4af5-99f3-cac9047a0847",
   "metadata": {},
   "outputs": [
    {
     "ename": "InvalidLiteral",
     "evalue": "Unexpected end of input at position 0",
     "output_type": "error",
     "traceback": [
      "\u001b[0;31m---------------------------------------------------------------------------\u001b[0m",
      "\u001b[0;31mInvalidLiteral\u001b[0m                            Traceback (most recent call last)",
      "Input \u001b[0;32mIn [97]\u001b[0m, in \u001b[0;36m<cell line: 1>\u001b[0;34m()\u001b[0m\n\u001b[1;32m     18\u001b[0m \u001b[38;5;66;03m# Parse the NBT data\u001b[39;00m\n\u001b[1;32m     19\u001b[0m chunk_data_str \u001b[38;5;241m=\u001b[39m chunk_data\u001b[38;5;241m.\u001b[39mdecode( \u001b[38;5;124m'\u001b[39m\u001b[38;5;124mutf-16\u001b[39m\u001b[38;5;124m'\u001b[39m )\n\u001b[0;32m---> 20\u001b[0m chunk_nbt \u001b[38;5;241m=\u001b[39m \u001b[43mnbtlib\u001b[49m\u001b[38;5;241;43m.\u001b[39;49m\u001b[43mparse_nbt\u001b[49m\u001b[43m(\u001b[49m\u001b[43m \u001b[49m\u001b[43mchunk_data_str\u001b[49m\u001b[43m[\u001b[49m\u001b[38;5;241;43m1\u001b[39;49m\u001b[43m:\u001b[49m\u001b[43m]\u001b[49m\u001b[43m \u001b[49m\u001b[43m)\u001b[49m\n",
      "File \u001b[0;32m~/miniconda3/envs/general/lib/python3.10/site-packages/nbtlib/literal/parser.py:104\u001b[0m, in \u001b[0;36mparse_nbt\u001b[0;34m(literal)\u001b[0m\n\u001b[1;32m    102\u001b[0m \u001b[38;5;28;01mdef\u001b[39;00m \u001b[38;5;21mparse_nbt\u001b[39m(literal):\n\u001b[1;32m    103\u001b[0m \u001b[38;5;250m    \u001b[39m\u001b[38;5;124;03m\"\"\"Parse a literal nbt string and return the resulting tag.\"\"\"\u001b[39;00m\n\u001b[0;32m--> 104\u001b[0m     parser \u001b[38;5;241m=\u001b[39m \u001b[43mParser\u001b[49m\u001b[43m(\u001b[49m\u001b[43mtokenize\u001b[49m\u001b[43m(\u001b[49m\u001b[43mliteral\u001b[49m\u001b[43m)\u001b[49m\u001b[43m)\u001b[49m\n\u001b[1;32m    105\u001b[0m     tag \u001b[38;5;241m=\u001b[39m parser\u001b[38;5;241m.\u001b[39mparse()\n\u001b[1;32m    107\u001b[0m     cursor \u001b[38;5;241m=\u001b[39m parser\u001b[38;5;241m.\u001b[39mtoken_span[\u001b[38;5;241m1\u001b[39m]\n",
      "File \u001b[0;32m~/miniconda3/envs/general/lib/python3.10/site-packages/nbtlib/literal/parser.py:146\u001b[0m, in \u001b[0;36mParser.__init__\u001b[0;34m(self, token_stream)\u001b[0m\n\u001b[1;32m    143\u001b[0m \u001b[38;5;28mself\u001b[39m\u001b[38;5;241m.\u001b[39mcurrent_token \u001b[38;5;241m=\u001b[39m \u001b[38;5;28;01mNone\u001b[39;00m\n\u001b[1;32m    144\u001b[0m \u001b[38;5;28mself\u001b[39m\u001b[38;5;241m.\u001b[39mtoken_span \u001b[38;5;241m=\u001b[39m (\u001b[38;5;241m0\u001b[39m, \u001b[38;5;241m0\u001b[39m)\n\u001b[0;32m--> 146\u001b[0m \u001b[38;5;28;43mself\u001b[39;49m\u001b[38;5;241;43m.\u001b[39;49m\u001b[43mnext\u001b[49m\u001b[43m(\u001b[49m\u001b[43m)\u001b[49m\n",
      "File \u001b[0;32m~/miniconda3/envs/general/lib/python3.10/site-packages/nbtlib/literal/parser.py:157\u001b[0m, in \u001b[0;36mParser.next\u001b[0;34m(self)\u001b[0m\n\u001b[1;32m    155\u001b[0m \u001b[38;5;28;01mif\u001b[39;00m \u001b[38;5;28mself\u001b[39m\u001b[38;5;241m.\u001b[39mcurrent_token \u001b[38;5;129;01mis\u001b[39;00m \u001b[38;5;28;01mNone\u001b[39;00m:\n\u001b[1;32m    156\u001b[0m     \u001b[38;5;28mself\u001b[39m\u001b[38;5;241m.\u001b[39mtoken_span \u001b[38;5;241m=\u001b[39m \u001b[38;5;28mself\u001b[39m\u001b[38;5;241m.\u001b[39mtoken_span[\u001b[38;5;241m1\u001b[39m], \u001b[38;5;28mself\u001b[39m\u001b[38;5;241m.\u001b[39mtoken_span[\u001b[38;5;241m1\u001b[39m]\n\u001b[0;32m--> 157\u001b[0m     \u001b[38;5;28;01mraise\u001b[39;00m \u001b[38;5;28mself\u001b[39m\u001b[38;5;241m.\u001b[39merror(\u001b[38;5;124m\"\u001b[39m\u001b[38;5;124mUnexpected end of input\u001b[39m\u001b[38;5;124m\"\u001b[39m)\n\u001b[1;32m    158\u001b[0m \u001b[38;5;28mself\u001b[39m\u001b[38;5;241m.\u001b[39mtoken_span \u001b[38;5;241m=\u001b[39m \u001b[38;5;28mself\u001b[39m\u001b[38;5;241m.\u001b[39mcurrent_token\u001b[38;5;241m.\u001b[39mspan\n\u001b[1;32m    159\u001b[0m \u001b[38;5;28;01mreturn\u001b[39;00m \u001b[38;5;28mself\u001b[39m\n",
      "\u001b[0;31mInvalidLiteral\u001b[0m: Unexpected end of input at position 0"
     ]
    }
   ],
   "source": [
    "with open( region_fp, 'rb' ) as mca_file:\n",
    "\n",
    "    # Read the chunk header\n",
    "    # mca_file.seek(byte_offset)\n",
    "    chunk_header = mca_file.read(5)\n",
    "    \n",
    "    chunk_length = struct.unpack('>i', chunk_header[0:4])[0]\n",
    "    compression_type = chunk_header[4]\n",
    "    \n",
    "    # Read the chunk data from the file\n",
    "    chunk_data = mca_file.read(chunk_length)\n",
    "    \n",
    "    # Decompress the chunk data if necessary\n",
    "    compression_scheme = chunk_header[4]\n",
    "    if compression_scheme == 1:\n",
    "        chunk_data = gzip.decompress(chunk_data)\n",
    "        \n",
    "    # Parse the NBT data\n",
    "    chunk_data_str = chunk_data.decode( 'utf-16' )\n",
    "    chunk_nbt = nbtlib.parse_nbt( chunk_data_str[1:] )"
   ]
  },
  {
   "cell_type": "code",
   "execution_count": 20,
   "id": "9f019b2e-c2d7-49a4-a7a4-20080ade2178",
   "metadata": {},
   "outputs": [
    {
     "data": {
      "text/plain": [
       "(7425,)"
      ]
     },
     "execution_count": 20,
     "metadata": {},
     "output_type": "execute_result"
    }
   ],
   "source": [
    "struct.unpack('>i', chunk_header[:4])"
   ]
  },
  {
   "cell_type": "code",
   "execution_count": 50,
   "id": "eb4ed1b8-c9e6-4f72-9cd0-1b477c47701b",
   "metadata": {},
   "outputs": [
    {
     "ename": "AttributeError",
     "evalue": "module 'nbt' has no attribute 'NBTFile'",
     "output_type": "error",
     "traceback": [
      "\u001b[0;31m---------------------------------------------------------------------------\u001b[0m",
      "\u001b[0;31mAttributeError\u001b[0m                            Traceback (most recent call last)",
      "Input \u001b[0;32mIn [50]\u001b[0m, in \u001b[0;36m<cell line: 4>\u001b[0;34m()\u001b[0m\n\u001b[1;32m      6\u001b[0m data \u001b[38;5;241m=\u001b[39m f\u001b[38;5;241m.\u001b[39mread()\n\u001b[1;32m      8\u001b[0m \u001b[38;5;66;03m# Parse the buffer as an NBT file\u001b[39;00m\n\u001b[0;32m----> 9\u001b[0m nbtfile \u001b[38;5;241m=\u001b[39m \u001b[43mnbt\u001b[49m\u001b[38;5;241;43m.\u001b[39;49m\u001b[43mNBTFile\u001b[49m(buffer\u001b[38;5;241m=\u001b[39mdata)\n",
      "\u001b[0;31mAttributeError\u001b[0m: module 'nbt' has no attribute 'NBTFile'"
     ]
    }
   ],
   "source": [
    "import nbt\n",
    "\n",
    "# Open the .mca file\n",
    "with open(region_fp, \"rb\") as f:\n",
    "    # Read the file contents into a buffer\n",
    "    data = f.read()\n",
    "\n",
    "    # Parse the buffer as an NBT file\n",
    "    nbtfile = nbt.NBTFile(buffer=data)"
   ]
  },
  {
   "cell_type": "code",
   "execution_count": 49,
   "id": "bcefacf1-0080-4825-8357-c7a629016a4c",
   "metadata": {
    "tags": []
   },
   "outputs": [
    {
     "ename": "UnicodeDecodeError",
     "evalue": "'utf-8' codec can't decode byte 0xbf in position 13: invalid start byte",
     "output_type": "error",
     "traceback": [
      "\u001b[0;31m---------------------------------------------------------------------------\u001b[0m",
      "\u001b[0;31mUnicodeDecodeError\u001b[0m                        Traceback (most recent call last)",
      "Input \u001b[0;32mIn [49]\u001b[0m, in \u001b[0;36m<cell line: 1>\u001b[0;34m()\u001b[0m\n\u001b[0;32m----> 1\u001b[0m \u001b[43mchunk_data\u001b[49m\u001b[38;5;241;43m.\u001b[39;49m\u001b[43mdecode\u001b[49m\u001b[43m(\u001b[49m\u001b[43m \u001b[49m\u001b[38;5;124;43m'\u001b[39;49m\u001b[38;5;124;43mutf-8\u001b[39;49m\u001b[38;5;124;43m'\u001b[39;49m\u001b[43m \u001b[49m\u001b[43m)\u001b[49m\n",
      "\u001b[0;31mUnicodeDecodeError\u001b[0m: 'utf-8' codec can't decode byte 0xbf in position 13: invalid start byte"
     ]
    }
   ],
   "source": [
    "chunk_data.decode( 'utf-8' )"
   ]
  },
  {
   "cell_type": "code",
   "execution_count": 14,
   "id": "7adee5fc-9738-471f-975d-188dfaa4077b",
   "metadata": {},
   "outputs": [],
   "source": [
    "import nbtlib\n",
    "import struct\n",
    "\n",
    "# Constants\n",
    "SECTOR_SIZE = 4096  # 4 KiB\n",
    "\n",
    "def get_chunk_offset(chunk_x, chunk_z):\n",
    "    \"\"\"\n",
    "    Calculate the offset of the chunk within the file.\n",
    "    \"\"\"\n",
    "    # Each chunk's header is 5 bytes long\n",
    "    header_size = 5\n",
    "\n",
    "    # Calculate the offset of the chunk within the file\n",
    "    chunk_offset = (chunk_x % 32) + (chunk_z % 32) * 32\n",
    "    return chunk_offset * header_size\n",
    "\n",
    "def load_chunk_data(mca_file, chunk_x, chunk_z):\n",
    "    \"\"\"\n",
    "    Load a chunk's data from a .mca file.\n",
    "    \"\"\"\n",
    "    # Calculate the offset of the chunk within the file\n",
    "    sector_offset = get_chunk_offset(chunk_x, chunk_z)\n",
    "    byte_offset = sector_offset * SECTOR_SIZE\n",
    "\n",
    "    # Read the chunk header\n",
    "    mca_file.seek(byte_offset)\n",
    "    chunk_header = mca_file.read(5)\n",
    "    if not chunk_header:\n",
    "        return None\n",
    "    length = struct.unpack('>i', chunk_header[:4])[0]\n",
    "    compression_type = chunk_header[4]\n",
    "\n",
    "    # Read the chunk data\n",
    "    chunk_data = mca_file.read(length)\n",
    "    if not chunk_data:\n",
    "        return None\n",
    "\n",
    "    if compression_type == 1:  # gzip compression\n",
    "        # Use gzip to decompress the data\n",
    "        chunk_data = gzip.decompress(chunk_data)\n",
    "        \n",
    "    # return chunk_data\n",
    "\n",
    "    # Load the chunk data into nbtlib\n",
    "    # try:\n",
    "    return nbtlib.parse_nbt(chunk_data.decode('utf-8'))\n",
    "    # except BaseException as e:\n",
    "    #     print(f\"Error loading chunk ({chunk_x}, {chunk_z}): {e}\")\n",
    "    #     return None\n",
    "\n",
    "def save_chunk_data(mca_file, chunk_x, chunk_z, chunk_data):\n",
    "    \"\"\"\n",
    "    Save a chunk's data to a .mca file.\n",
    "    \"\"\"\n",
    "    # Calculate the offset of the chunk within the file\n",
    "    sector_offset = get_chunk_offset(chunk_x, chunk_z)\n",
    "    byte_offset = sector_offset * SECTOR_SIZE\n",
    "\n",
    "    # Serialize the chunk data\n",
    "    serialized_data = nbtlib.serialize_nbt(chunk_data, compressed=True)\n",
    "\n",
    "    # Calculate the length of the chunk data and the compression type\n",
    "    length = len(serialized_data)\n",
    "    compression_type = 1  # gzip compression\n",
    "\n",
    "    # Write the chunk header\n",
    "    mca_file.seek(byte_offset)\n",
    "    mca_file.write(struct.pack('>i', length))\n",
    "    mca_file.write(bytes([compression_type]))\n",
    "\n",
    "    # Write the compressed chunk data\n",
    "    mca_file.write(gzip.compress(serialized_data))\n"
   ]
  },
  {
   "cell_type": "code",
   "execution_count": 15,
   "id": "9c31b045-6c5f-45c3-a705-df4e51104bf7",
   "metadata": {},
   "outputs": [
    {
     "ename": "UnicodeDecodeError",
     "evalue": "'utf-8' codec can't decode byte 0xbf in position 13: invalid start byte",
     "output_type": "error",
     "traceback": [
      "\u001b[0;31m---------------------------------------------------------------------------\u001b[0m",
      "\u001b[0;31mUnicodeDecodeError\u001b[0m                        Traceback (most recent call last)",
      "Input \u001b[0;32mIn [15]\u001b[0m, in \u001b[0;36m<cell line: 1>\u001b[0;34m()\u001b[0m\n\u001b[1;32m      1\u001b[0m \u001b[38;5;28;01mwith\u001b[39;00m \u001b[38;5;28mopen\u001b[39m( region_fp, \u001b[38;5;124m'\u001b[39m\u001b[38;5;124mrb\u001b[39m\u001b[38;5;124m'\u001b[39m ) \u001b[38;5;28;01mas\u001b[39;00m mca_file:\n\u001b[0;32m----> 2\u001b[0m     chunk_data \u001b[38;5;241m=\u001b[39m \u001b[43mload_chunk_data\u001b[49m\u001b[43m(\u001b[49m\u001b[43m \u001b[49m\u001b[43mmca_file\u001b[49m\u001b[43m,\u001b[49m\u001b[43m \u001b[49m\u001b[43mchunk_x\u001b[49m\u001b[43m,\u001b[49m\u001b[43m \u001b[49m\u001b[43mchunk_z\u001b[49m\u001b[43m \u001b[49m\u001b[43m)\u001b[49m\n",
      "Input \u001b[0;32mIn [14]\u001b[0m, in \u001b[0;36mload_chunk_data\u001b[0;34m(mca_file, chunk_x, chunk_z)\u001b[0m\n\u001b[1;32m     41\u001b[0m     chunk_data \u001b[38;5;241m=\u001b[39m gzip\u001b[38;5;241m.\u001b[39mdecompress(chunk_data)\n\u001b[1;32m     43\u001b[0m \u001b[38;5;66;03m# return chunk_data\u001b[39;00m\n\u001b[1;32m     44\u001b[0m \n\u001b[1;32m     45\u001b[0m \u001b[38;5;66;03m# Load the chunk data into nbtlib\u001b[39;00m\n\u001b[1;32m     46\u001b[0m \u001b[38;5;66;03m# try:\u001b[39;00m\n\u001b[0;32m---> 47\u001b[0m \u001b[38;5;28;01mreturn\u001b[39;00m nbtlib\u001b[38;5;241m.\u001b[39mparse_nbt(\u001b[43mchunk_data\u001b[49m\u001b[38;5;241;43m.\u001b[39;49m\u001b[43mdecode\u001b[49m\u001b[43m(\u001b[49m\u001b[38;5;124;43m'\u001b[39;49m\u001b[38;5;124;43mutf-8\u001b[39;49m\u001b[38;5;124;43m'\u001b[39;49m\u001b[43m)\u001b[49m)\n",
      "\u001b[0;31mUnicodeDecodeError\u001b[0m: 'utf-8' codec can't decode byte 0xbf in position 13: invalid start byte"
     ]
    }
   ],
   "source": [
    "with open( region_fp, 'rb' ) as mca_file:\n",
    "    chunk_data = load_chunk_data( mca_file, chunk_x, chunk_z )"
   ]
  },
  {
   "cell_type": "code",
   "execution_count": null,
   "id": "56a1961e-fcbf-4bf0-a0a3-fc50ce8bd8df",
   "metadata": {},
   "outputs": [],
   "source": []
  }
 ],
 "metadata": {
  "kernelspec": {
   "display_name": "Python 3 (ipykernel)",
   "language": "python",
   "name": "python3"
  },
  "language_info": {
   "codemirror_mode": {
    "name": "ipython",
    "version": 3
   },
   "file_extension": ".py",
   "mimetype": "text/x-python",
   "name": "python",
   "nbconvert_exporter": "python",
   "pygments_lexer": "ipython3",
   "version": "3.10.4"
  }
 },
 "nbformat": 4,
 "nbformat_minor": 5
}
