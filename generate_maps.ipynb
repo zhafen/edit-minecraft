{
 "cells": [
  {
   "cell_type": "code",
   "execution_count": null,
   "id": "1c7df78d-ef36-4fa8-a010-e2de13472971",
   "metadata": {},
   "outputs": [],
   "source": [
    "import glob\n",
    "import numpy as np\n",
    "import os\n",
    "import tqdm"
   ]
  },
  {
   "cell_type": "code",
   "execution_count": null,
   "id": "70956e3c-437a-4025-82d1-bd6d0e26d750",
   "metadata": {},
   "outputs": [],
   "source": [
    "import matplotlib\n",
    "import matplotlib.pyplot as plt\n",
    "fig = plt.figure()\n",
    "matplotlib.style.use( '/Users/zhafen/repos/clean-bold/clean-bold.mplstyle' )"
   ]
  },
  {
   "cell_type": "code",
   "execution_count": null,
   "id": "9b3a59a5-6720-4991-b48f-c4a3ebf2216a",
   "metadata": {},
   "outputs": [],
   "source": [
    "import anvil"
   ]
  },
  {
   "cell_type": "code",
   "execution_count": null,
   "id": "a4cf099e-93e1-4372-9d7b-980d719a80c1",
   "metadata": {},
   "outputs": [],
   "source": [
    "import verdict"
   ]
  },
  {
   "cell_type": "code",
   "execution_count": null,
   "id": "014b97c7-090b-4e01-b4e7-1b01546c5a9c",
   "metadata": {},
   "outputs": [],
   "source": [
    "CHUNK_SIZE = 16\n",
    "CHUNKS_PER_REGION = 32\n",
    "REGION_SIZE = CHUNK_SIZE * CHUNKS_PER_REGION"
   ]
  },
  {
   "cell_type": "markdown",
   "id": "2f105684-c499-4271-89c1-0a2e99e880e9",
   "metadata": {},
   "source": [
    "# Parameters"
   ]
  },
  {
   "cell_type": "code",
   "execution_count": null,
   "id": "648e00a6-04e5-4c80-880f-a7e5a012ac63",
   "metadata": {},
   "outputs": [],
   "source": [
    "image_norm = 'z'\n",
    "norm_dim_value = 0"
   ]
  },
  {
   "cell_type": "code",
   "execution_count": null,
   "id": "95cbbfbd-a747-4341-b826-e8f67590f510",
   "metadata": {},
   "outputs": [],
   "source": [
    "world_dir = '/Users/zhafen/data/minecraft/saves/aternos/world'"
   ]
  },
  {
   "cell_type": "code",
   "execution_count": null,
   "id": "12bf9ae0-dd5f-42e2-a90a-ce882bd9521a",
   "metadata": {},
   "outputs": [],
   "source": [
    "color_fp = '/Users/zhafen/data/minecraft/textures/block/colors.h5'"
   ]
  },
  {
   "cell_type": "markdown",
   "id": "5b196206-f136-494d-87c3-13dedbcebfbd",
   "metadata": {},
   "source": [
    "# Load Data"
   ]
  },
  {
   "cell_type": "code",
   "execution_count": null,
   "id": "8483feb2-28fa-4084-89f0-91df8a63e257",
   "metadata": {},
   "outputs": [],
   "source": [
    "block_colors = verdict.Dict.from_hdf5( color_fp )"
   ]
  },
  {
   "cell_type": "code",
   "execution_count": null,
   "id": "77569aea-e319-4f02-81a9-7fcd534df42d",
   "metadata": {},
   "outputs": [],
   "source": [
    "region_fps = glob.glob( os.path.join( world_dir, 'region', '*' ) )"
   ]
  },
  {
   "cell_type": "code",
   "execution_count": null,
   "id": "bbaede5e-1d9f-4a3f-9da8-2b25dcbf2097",
   "metadata": {},
   "outputs": [],
   "source": [
    "i = 0\n",
    "region_fp = region_fps[i]"
   ]
  },
  {
   "cell_type": "code",
   "execution_count": null,
   "id": "ac1eb861-5fa0-47f0-be75-2f879088567c",
   "metadata": {},
   "outputs": [],
   "source": [
    "# Set up variables depending on what dimension is projected\n",
    "if image_norm == 'z':\n",
    "    xdim = 'x'\n",
    "    ydim = 'y'\n",
    "elif image_norm == 'y':\n",
    "    xdim = 'z'\n",
    "    ydim = 'x'\n",
    "elif image_norm == 'x':\n",
    "    xdim = 'z'\n",
    "    ydim = 'y'\n",
    "else:\n",
    "    raise KeyError( 'Unrecognized image_norm, image_norm = {}'.format( image_norm ) )"
   ]
  },
  {
   "cell_type": "code",
   "execution_count": null,
   "id": "6470153b-6301-400c-b9fa-645dcd136c65",
   "metadata": {},
   "outputs": [],
   "source": [
    "# Get region coords\n",
    "_, x_region, z_region, _ = os.path.basename( region_fp ).split( '.' )\n",
    "x_region, z_region = int( x_region ), int( z_region )"
   ]
  },
  {
   "cell_type": "code",
   "execution_count": null,
   "id": "6286591b-633a-4b1d-84d9-552fb05fa258",
   "metadata": {},
   "outputs": [],
   "source": [
    "# Make anvil classes\n",
    "region = anvil.Region.from_file( region_fp )\n",
    "chunk_origin = anvil.Chunk.from_region( region, 0, 0 )"
   ]
  },
  {
   "cell_type": "code",
   "execution_count": null,
   "id": "baaf83e0-cfed-4186-80ad-31daed3b1f5f",
   "metadata": {},
   "outputs": [],
   "source": [
    "# Get the possible y values\n",
    "section_height_range = anvil.chunk._section_height_range( chunk_origin.version )\n",
    "y_range = np.arange( section_height_range.start * CHUNK_SIZE, section_height_range.stop * CHUNK_SIZE )"
   ]
  },
  {
   "cell_type": "code",
   "execution_count": null,
   "id": "86c9cd43-7c0f-43a6-b3ec-05b0e94be63e",
   "metadata": {},
   "outputs": [],
   "source": [
    "# Convert indices to xs, ys, and zs, using index = y * 16**2 + z * 16 + x\n",
    "inds = np.arange( 16**2 * y_range.size )\n",
    "\n",
    "y_inds = inds // 16**2\n",
    "z_inds = ( inds - y_inds * 16**2 ) // 16\n",
    "x_inds = ( inds - y_inds * 16**2 - z_inds * 16 )"
   ]
  },
  {
   "cell_type": "code",
   "execution_count": null,
   "id": "09d66aba-1cf0-4cef-8c4d-25fe355b69e1",
   "metadata": {},
   "outputs": [],
   "source": [
    "# Extract data in string format\n",
    "data_shape = ( REGION_SIZE, y_range.size )\n",
    "data = np.zeros( data_shape, dtype='<U22' ).astype( str )\n",
    "for i_chunk in tqdm.tqdm( range( CHUNKS_PER_REGION ) ):\n",
    "    for k_chunk in range( CHUNKS_PER_REGION ):\n",
    "        \n",
    "            if k_chunk != norm_dim_value:\n",
    "                continue\n",
    "        \n",
    "            # You can also provide the region file name instead of the object\n",
    "            try:\n",
    "                chunk = anvil.Chunk.from_region( region, i_chunk, k_chunk )\n",
    "            except anvil.chunk.ChunkNotFound as e:\n",
    "                missing_chunks.append( ( region_fp, i_chunk, k_chunk ) )\n",
    "                continue\n",
    "                \n",
    "            for index, block in enumerate( chunk.stream_chunk() ):\n",
    "                \n",
    "                if z_inds[index] != 0:\n",
    "                    continue\n",
    "                                    \n",
    "                data[i_chunk*16 + x_inds[index],y_inds[index]] = block.id"
   ]
  },
  {
   "cell_type": "markdown",
   "id": "6887ba87-33c5-4a89-bdea-b561c85badbe",
   "metadata": {},
   "source": [
    "# Generate Map"
   ]
  },
  {
   "cell_type": "code",
   "execution_count": null,
   "id": "5a81073e-5964-45ef-8663-6ddbfa40556d",
   "metadata": {},
   "outputs": [],
   "source": [
    "data_palette = np.unique( data )\n",
    "img = np.ones( ( data.shape[0], data.shape[1], 4 ) )\n",
    "for block_id in tqdm.tqdm( data_palette ):\n",
    "    \n",
    "    block_id_split = block_id.split( '_' )\n",
    "    \n",
    "    if block_id_split[0] == 'tall':\n",
    "        block_id = '_'.join( block_id_split[1:] )\n",
    "    \n",
    "    try:\n",
    "        block_color = block_colors[block_id]\n",
    "        \n",
    "    # Some have different colors for side or top\n",
    "    except KeyError:\n",
    "        if image_norm in [ 'x', 'z' ]:\n",
    "            block_color = block_colors['{}_side'.format( block_id )]\n",
    "        else:\n",
    "            block_color = block_colors['{}_tope'.format( block_id )]\n",
    "    \n",
    "    # Color in the image\n",
    "    img[np.where( data==block_id )] = block_color"
   ]
  },
  {
   "cell_type": "code",
   "execution_count": null,
   "id": "58093a7b-772d-4f78-a732-c1a9afa66fb8",
   "metadata": {},
   "outputs": [],
   "source": [
    "fig = plt.figure()\n",
    "ax = plt.gca()\n",
    "\n",
    "ax.imshow( np.rot90( img, axes=(0,1) ) )\n",
    "\n",
    "ax.set_aspect( 'equal' )\n",
    "ax.set_axis_off()"
   ]
  },
  {
   "cell_type": "code",
   "execution_count": null,
   "id": "fdfbe5d1-2a9c-4f6d-aec3-fbf5255248f2",
   "metadata": {},
   "outputs": [],
   "source": []
  }
 ],
 "metadata": {
  "kernelspec": {
   "display_name": "Python 3 (ipykernel)",
   "language": "python",
   "name": "python3"
  },
  "language_info": {
   "codemirror_mode": {
    "name": "ipython",
    "version": 3
   },
   "file_extension": ".py",
   "mimetype": "text/x-python",
   "name": "python",
   "nbconvert_exporter": "python",
   "pygments_lexer": "ipython3",
   "version": "3.10.4"
  }
 },
 "nbformat": 4,
 "nbformat_minor": 5
}
