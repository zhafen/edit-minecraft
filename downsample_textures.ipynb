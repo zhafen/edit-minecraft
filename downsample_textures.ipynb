{
 "cells": [
  {
   "cell_type": "code",
   "execution_count": null,
   "id": "18bbccc8-1e39-43ec-9ec3-056b1c643d80",
   "metadata": {},
   "outputs": [],
   "source": [
    "import copy\n",
    "import glob\n",
    "import numpy as np\n",
    "import os\n",
    "import PIL"
   ]
  },
  {
   "cell_type": "code",
   "execution_count": null,
   "id": "b1389bf5-ded4-4846-aaac-94c29255a229",
   "metadata": {},
   "outputs": [],
   "source": [
    "from skimage.measure import block_reduce"
   ]
  },
  {
   "cell_type": "code",
   "execution_count": null,
   "id": "8331f613-0663-4615-819d-a16bf4ad3128",
   "metadata": {},
   "outputs": [],
   "source": [
    "import verdict"
   ]
  },
  {
   "cell_type": "code",
   "execution_count": null,
   "id": "70956e3c-437a-4025-82d1-bd6d0e26d750",
   "metadata": {},
   "outputs": [],
   "source": [
    "import matplotlib\n",
    "import matplotlib.pyplot as plt\n",
    "fig = plt.figure()\n",
    "matplotlib.style.use( '/Users/zhafen/repos/clean-bold/clean-bold.mplstyle' )"
   ]
  },
  {
   "cell_type": "markdown",
   "id": "49dc01af-e8bb-4d23-a860-6b1933cd78d1",
   "metadata": {},
   "source": [
    "# Parameters"
   ]
  },
  {
   "cell_type": "code",
   "execution_count": null,
   "id": "a085b322-a59f-4dde-b76a-9f9511c9cc2a",
   "metadata": {},
   "outputs": [],
   "source": [
    "example_texture = 'redstone_block'"
   ]
  },
  {
   "cell_type": "code",
   "execution_count": null,
   "id": "01d81bcc-4d8f-4507-9703-69583b7cd2b5",
   "metadata": {},
   "outputs": [],
   "source": [
    "source_dir = '/Users/zhafen/data/minecraft/versions/1.19.2/assets/minecraft/textures/block'\n",
    "output_dir = '/Users/zhafen/data/minecraft/textures/block'"
   ]
  },
  {
   "cell_type": "markdown",
   "id": "17660bea-f4a2-4586-a62d-c81be35ee3eb",
   "metadata": {},
   "source": [
    "# Load Textures"
   ]
  },
  {
   "cell_type": "code",
   "execution_count": null,
   "id": "086ea53f-ff26-4220-9cd3-c65a291e323f",
   "metadata": {},
   "outputs": [],
   "source": [
    "texture_fps = glob.glob( os.path.join( source_dir, '*' ) )\n",
    "textures = {}\n",
    "for texture_fp in texture_fps:\n",
    "    block_id = os.path.splitext( os.path.basename( texture_fp ) )[0]\n",
    "    \n",
    "    try:\n",
    "        textures[block_id] = plt.imread( texture_fp )\n",
    "    except PIL.UnidentifiedImageError:\n",
    "        continue"
   ]
  },
  {
   "cell_type": "code",
   "execution_count": null,
   "id": "8835fdde-4f41-45ad-a7c9-fc0fe02fcf8f",
   "metadata": {},
   "outputs": [],
   "source": [
    "fig = plt.figure()\n",
    "ax = plt.gca()\n",
    "\n",
    "ax.imshow( textures[example_texture] )\n",
    "ax.set_axis_off()"
   ]
  },
  {
   "cell_type": "markdown",
   "id": "ab760e71-b941-48a9-afc3-b33bd6c65c59",
   "metadata": {},
   "source": [
    "# Extract Representative Colors"
   ]
  },
  {
   "cell_type": "code",
   "execution_count": null,
   "id": "b2355d0e-32a1-40a8-8496-412ade3262f7",
   "metadata": {},
   "outputs": [],
   "source": [
    "texture_colors = verdict.Dict()\n",
    "for block_id, texture in textures.items():\n",
    "    texture_color = block_reduce( texture, block_size=(texture.shape[0], texture.shape[1], 1 ), func=np.mean )\n",
    "    texture_colors[block_id] = texture_color[0][0]"
   ]
  },
  {
   "cell_type": "code",
   "execution_count": null,
   "id": "40634379-8622-40e4-a02c-3288029cb04e",
   "metadata": {},
   "outputs": [],
   "source": [
    "# Air doesn't have a texture, but we'll add it as fully translucent white for completeness\n",
    "# Cave air will be black and opaque\n",
    "texture_colors['air'] = np.array([ 1., 1., 1., 0., ])\n",
    "texture_colors['cave_air'] = np.array([ 0., 0., 0., 1., ])"
   ]
  },
  {
   "cell_type": "code",
   "execution_count": null,
   "id": "9c8ecf36-e19b-404d-a5b5-c1a4dbd1fd4d",
   "metadata": {},
   "outputs": [],
   "source": [
    "# Lava flow is also known as lava\n",
    "texture_colors['lava'] = np.array([ 1., 1., 1., 1., ])\n",
    "texture_colors['lava'][:3] = texture_colors['lava_flow']"
   ]
  },
  {
   "cell_type": "code",
   "execution_count": null,
   "id": "ce4c9a8e-d046-4a3b-b7ac-d05eacea35d7",
   "metadata": {},
   "outputs": [],
   "source": [
    "# Water coloor input manually\n",
    "texture_colors['water'] = np.array([ 14, 80, 255, 255. ]) / 255."
   ]
  },
  {
   "cell_type": "code",
   "execution_count": null,
   "id": "06cd0d98-5b53-4ddc-9a35-c792df6964f7",
   "metadata": {},
   "outputs": [],
   "source": [
    "for block_id, block_color in copy.deepcopy( texture_colors.items() ):\n",
    "    \n",
    "    block_id_split = block_id.split( '_' )\n",
    "    \n",
    "    # Fence colors will be plank colors\n",
    "    if block_id_split[-1] == 'planks':\n",
    "        wood_type = '_'.join( block_id_split[:-1] )\n",
    "        \n",
    "        texture_colors['{}_fence'.format( wood_type )] = block_color\n",
    "       \n",
    "    # Torches will be colored as air\n",
    "    if 'torch' in block_id:\n",
    "        texture_colors[block_id] = texture_colors['air']\n",
    "        texture_colors['wall_{}'.format( block_id )] = texture_colors['air']"
   ]
  },
  {
   "cell_type": "code",
   "execution_count": null,
   "id": "e98be0c4-defa-4a89-86b2-ad47dba4fccf",
   "metadata": {},
   "outputs": [],
   "source": [
    "color_fp = os.path.join( output_dir, 'colors.h5' )\n",
    "texture_colors.to_hdf5( color_fp )"
   ]
  },
  {
   "cell_type": "code",
   "execution_count": null,
   "id": "cdeb141c-f19f-4742-a286-1c77b8201c78",
   "metadata": {},
   "outputs": [],
   "source": [
    "fig = plt.figure()\n",
    "ax = plt.gca()\n",
    "\n",
    "ax.imshow( [[ texture_colors[example_texture], ],] )\n",
    "ax.set_axis_off()"
   ]
  }
 ],
 "metadata": {
  "kernelspec": {
   "display_name": "Python 3 (ipykernel)",
   "language": "python",
   "name": "python3"
  },
  "language_info": {
   "codemirror_mode": {
    "name": "ipython",
    "version": 3
   },
   "file_extension": ".py",
   "mimetype": "text/x-python",
   "name": "python",
   "nbconvert_exporter": "python",
   "pygments_lexer": "ipython3",
   "version": "3.10.4"
  }
 },
 "nbformat": 4,
 "nbformat_minor": 5
}
