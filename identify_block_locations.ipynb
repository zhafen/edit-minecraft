{
 "cells": [
  {
   "cell_type": "code",
   "execution_count": null,
   "id": "e5e6b0c7-9b91-42f6-898d-c588834f31d6",
   "metadata": {},
   "outputs": [],
   "source": [
    "import glob\n",
    "import numpy as np\n",
    "import os\n",
    "import tqdm"
   ]
  },
  {
   "cell_type": "code",
   "execution_count": null,
   "id": "ef956762-4853-43f0-a97a-4ee22f7be65c",
   "metadata": {},
   "outputs": [],
   "source": [
    "import matplotlib\n",
    "import matplotlib.pyplot as plt\n",
    "fig = plt.figure()\n",
    "matplotlib.style.use( '/Users/zhafen/repos/clean-bold/clean-bold.mplstyle' )"
   ]
  },
  {
   "cell_type": "code",
   "execution_count": null,
   "id": "304f7aaf-9483-4fec-8dfc-4f8aac5e5ec2",
   "metadata": {},
   "outputs": [],
   "source": [
    "import anvil"
   ]
  },
  {
   "cell_type": "code",
   "execution_count": null,
   "id": "014b97c7-090b-4e01-b4e7-1b01546c5a9c",
   "metadata": {},
   "outputs": [],
   "source": [
    "CHUNK_SIZE = 16\n",
    "CHUNKS_PER_REGION = 32\n",
    "REGION_SIZE = CHUNK_SIZE * CHUNKS_PER_REGION"
   ]
  },
  {
   "cell_type": "markdown",
   "id": "6913c3cb-ba18-4cd3-a3eb-ecad040b44e0",
   "metadata": {},
   "source": [
    "# Parameters"
   ]
  },
  {
   "cell_type": "code",
   "execution_count": null,
   "id": "e565c267-ad17-4511-84df-7fbe3579554f",
   "metadata": {},
   "outputs": [],
   "source": [
    "world_dir = '/Users/zhafen/data/minecraft/saves/aternos/world'"
   ]
  },
  {
   "cell_type": "code",
   "execution_count": null,
   "id": "88b57336-9c14-4cdb-9b7c-02b8f2d46872",
   "metadata": {},
   "outputs": [],
   "source": [
    "search_block_id = 'redstone_block'"
   ]
  },
  {
   "cell_type": "code",
   "execution_count": null,
   "id": "4032d824-8047-4bc0-977c-14b035ec8939",
   "metadata": {},
   "outputs": [],
   "source": [
    "regions_to_check = [\n",
    "    ( -1, 1 ),\n",
    "    ( -2, 1 ),\n",
    "]"
   ]
  },
  {
   "cell_type": "markdown",
   "id": "3aca38e4-2500-4b5e-986f-bc1ec1a4d576",
   "metadata": {},
   "source": [
    "# Load Data"
   ]
  },
  {
   "cell_type": "code",
   "execution_count": null,
   "id": "0280953f-9f58-4c27-87bc-d382e5f1eede",
   "metadata": {},
   "outputs": [],
   "source": [
    "if regions_to_check is None:\n",
    "    region_fps = glob.glob( os.path.join( world_dir, 'region', '*' ) )\n",
    "else:\n",
    "    region_fps = [ os.path.join( world_dir, 'region', 'r.{}.{}.mca'.format( *_ ) ) for _ in regions_to_check ]"
   ]
  },
  {
   "cell_type": "code",
   "execution_count": null,
   "id": "f9b3ef9a-a953-437e-aea2-eb1b7b971b5a",
   "metadata": {},
   "outputs": [],
   "source": [
    "# Get the possible y values\n",
    "region_random = anvil.Region.from_file( region_fps[0] )\n",
    "chunk_random = anvil.Chunk.from_region( region_random, 0, 0 )\n",
    "section_height_range = anvil.chunk._section_height_range( chunk_random.version )\n",
    "y_range = np.arange( section_height_range.start * CHUNK_SIZE, section_height_range.stop * CHUNK_SIZE )"
   ]
  },
  {
   "cell_type": "code",
   "execution_count": null,
   "id": "f4917827-d429-4a2a-9bef-177b6a546e6b",
   "metadata": {},
   "outputs": [],
   "source": [
    "# Convert indices to xs, ys, and zs, using index = y * 16**2 + z * 16 + x\n",
    "inds = np.arange( 16**2 * y_range.size )\n",
    "\n",
    "y_inds = inds // 16**2\n",
    "z_inds = ( inds - y_inds * 16**2 ) // 16\n",
    "x_inds = ( inds - y_inds * 16**2 - z_inds * 16 )"
   ]
  },
  {
   "cell_type": "code",
   "execution_count": null,
   "id": "66a49b4c-f159-41d5-827c-792d217001c5",
   "metadata": {},
   "outputs": [],
   "source": [
    "# Loop through and get data for all regions\n",
    "regions_containing_block = []\n",
    "for i, region_fp in enumerate( region_fps ):\n",
    "    region = anvil.Region.from_file( region_fp )\n",
    "    \n",
    "    # Get region coords\n",
    "    _, x_region, z_region, _ = os.path.basename( region_fp ).split( '.' )\n",
    "    x_region, z_region = int( x_region ), int( z_region )\n",
    "    \n",
    "    print( '{} / {}: searching region ({}, {})'.format( i+1, len( region_fps ), x_region, z_region ) )\n",
    "\n",
    "    # Extract data in string format\n",
    "    for i_chunk in tqdm.tqdm( range( CHUNKS_PER_REGION ) ):\n",
    "        for k_chunk in range( CHUNKS_PER_REGION ):\n",
    "\n",
    "                # You can also provide the region file name instead of the object\n",
    "                try:\n",
    "                    chunk = anvil.Chunk.from_region( region, i_chunk, k_chunk )\n",
    "                except anvil.chunk.ChunkNotFound as e:\n",
    "                    continue\n",
    "\n",
    "                for index, block in enumerate( chunk.stream_chunk() ):\n",
    "                    \n",
    "                    x = x_region * REGION_SIZE + i_chunk * CHUNK_SIZE + x_inds[index]\n",
    "                    z = z_region * REGION_SIZE + k_chunk * CHUNK_SIZE + z_inds[index]\n",
    "                    y = y_inds[index]\n",
    "\n",
    "                    if block.id == search_block_id:\n",
    "                        print( 'Found block at ({}, {}, {})'.format( x, y, z ) )\n",
    "                        regions_containing_block.append( region_fp )"
   ]
  },
  {
   "cell_type": "code",
   "execution_count": null,
   "id": "a6e3f9f9-21d0-4ace-99dd-bccd91fd3be2",
   "metadata": {},
   "outputs": [],
   "source": [
    "-1, 1\n",
    "-2, 1"
   ]
  },
  {
   "cell_type": "code",
   "execution_count": null,
   "id": "3e19d22d-70b9-4908-8142-652e55616845",
   "metadata": {},
   "outputs": [],
   "source": [
    "-1, 0"
   ]
  }
 ],
 "metadata": {
  "kernelspec": {
   "display_name": "Python 3 (ipykernel)",
   "language": "python",
   "name": "python3"
  },
  "language_info": {
   "codemirror_mode": {
    "name": "ipython",
    "version": 3
   },
   "file_extension": ".py",
   "mimetype": "text/x-python",
   "name": "python",
   "nbconvert_exporter": "python",
   "pygments_lexer": "ipython3",
   "version": "3.10.4"
  }
 },
 "nbformat": 4,
 "nbformat_minor": 5
}
